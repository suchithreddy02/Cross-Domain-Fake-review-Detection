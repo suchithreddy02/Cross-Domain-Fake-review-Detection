{
  "nbformat": 4,
  "nbformat_minor": 0,
  "metadata": {
    "colab": {
      "provenance": []
    },
    "kernelspec": {
      "name": "python3",
      "display_name": "Python 3"
    },
    "language_info": {
      "name": "python"
    },
    "gpuClass": "standard",
    "accelerator": "GPU"
  },
  "cells": [
    {
      "cell_type": "code",
      "source": [
        "from __future__ import absolute_import\n",
        "from __future__ import division\n",
        "from __future__ import print_function\n",
        "\n",
        "import tensorflow as tf\n",
        "import numpy as np\n",
        "import matplotlib.pyplot as plt\n",
        "from mpl_toolkits.axes_grid1 import ImageGrid\n",
        "\n",
        "# Model construction utilities below adapted from\n",
        "# https://www.tensorflow.org/versions/r0.8/tutorials/mnist/pros/index.html#deep-mnist-for-experts\n",
        "def weight_variable(shape):\n",
        "    initial = tf.random.truncated_normal(shape, stddev=0.1)\n",
        "    return tf.Variable(initial)\n",
        "\n",
        "\n",
        "def bias_variable(shape):\n",
        "    initial = tf.constant(0.1, shape=shape)\n",
        "    return tf.Variable(initial)\n",
        "\n",
        "\n",
        "def conv2d(x, W):\n",
        "    return tf.nn.conv2d(x, W, strides=[1, 1, 1, 1], padding='SAME')\n",
        "\n",
        "\n",
        "def max_pool_2x2(x):\n",
        "    return tf.nn.max_pool(x, ksize=[1, 2, 2, 1],\n",
        "                        strides=[1, 2, 2, 1], padding='SAME')\n",
        "\n",
        "\n",
        "def shuffle_aligned_list(data):\n",
        "    \"\"\"Shuffle arrays in a list by shuffling each array identically.\"\"\"\n",
        "    num = data[0].shape[0]\n",
        "    p = np.random.permutation(num)\n",
        "    return [d[p] for d in data]\n",
        "\n",
        "\n",
        "def batch_generator(data, batch_size, shuffle=True):\n",
        "    \"\"\"Generate batches of data.\n",
        "    \n",
        "    Given a list of array-like objects, generate batches of a given\n",
        "    size by yielding a list of array-like objects corresponding to the\n",
        "    same slice of each input.\n",
        "    \"\"\"\n",
        "    if shuffle:\n",
        "        data = shuffle_aligned_list(data)\n",
        "\n",
        "    batch_count = 0\n",
        "    while True:\n",
        "        if batch_count * batch_size + batch_size >= len(data[0]):\n",
        "            batch_count = 0\n",
        "\n",
        "            if shuffle:\n",
        "                data = shuffle_aligned_list(data)\n",
        "\n",
        "        start = batch_count * batch_size\n",
        "        end = start + batch_size\n",
        "        batch_count += 1\n",
        "        yield [d[start:end] for d in data]\n",
        "\n",
        "\n",
        "def imshow_grid(images, shape=[2, 8]):\n",
        "    \"\"\"Plot images in a grid of a given shape.\"\"\"\n",
        "    fig = plt.figure(1)\n",
        "    grid = ImageGrid(fig, 111, nrows_ncols=shape, axes_pad=0.05)\n",
        "\n",
        "    size = shape[0] * shape[1]\n",
        "    for i in range(size):\n",
        "        grid[i].axis('off')\n",
        "        grid[i].imshow(images[i])  # The AxesGrid object work as a list of axes.\n",
        "\n",
        "    plt.show()\n",
        "\n",
        "\n",
        "def plot_embedding(X, y, d, title=None):\n",
        "    \"\"\"Plot an embedding X with the class label y colored by the domain d.\"\"\"\n",
        "    x_min, x_max = np.min(X, 0), np.max(X, 0)\n",
        "    X = (X - x_min) / (x_max - x_min)\n",
        "\n",
        "    # Plot colors numbers\n",
        "    plt.figure(figsize=(10,10))\n",
        "    ax = plt.subplot(111)\n",
        "    for i in range(X.shape[0]):\n",
        "        # plot colored number\n",
        "        plt.text(X[i, 0], X[i, 1], str(y[i]),\n",
        "                 color=plt.cm.bwr(d[i] / 1.),\n",
        "                 fontdict={'weight': 'bold', 'size': 9})\n",
        "\n",
        "    plt.xticks([]), plt.yticks([])\n",
        "    if title is not None:\n",
        "        plt.title(title)"
      ],
      "metadata": {
        "id": "zU7Tr8itFthO"
      },
      "execution_count": null,
      "outputs": []
    },
    {
      "cell_type": "code",
      "source": [
        "from __future__ import absolute_import\n",
        "from __future__ import division\n",
        "from __future__ import print_function\n",
        "\n",
        "import matplotlib.pyplot as plt\n",
        "import tensorflow as tf\n",
        "import numpy as np\n",
        "import pickle as pkl\n",
        "from sklearn.datasets import make_moons, make_blobs\n",
        "from sklearn.decomposition import PCA\n",
        "\n",
        "from google.colab import drive\n",
        "drive.mount('/content/drive')\n",
        "import sys\n",
        "sys.path.insert(0,'/content/drive/MyDrive/CrossDomain_FakeReviewDetection/Datasets')\n",
        "\n",
        "from flip_gradient import flip_gradient"
      ],
      "metadata": {
        "id": "WVY9yi14Ti_3",
        "colab": {
          "base_uri": "https://localhost:8080/"
        },
        "outputId": "7e76e7ea-ae71-401e-e6b1-4506428018b7"
      },
      "execution_count": null,
      "outputs": [
        {
          "output_type": "stream",
          "name": "stdout",
          "text": [
            "Mounted at /content/drive\n"
          ]
        }
      ]
    },
    {
      "cell_type": "code",
      "source": [
        "!pip install tensorflow_text\n",
        "\n",
        "import tensorflow as tf\n",
        "import tensorflow_hub as hub\n",
        "import tensorflow_text as text\n",
        "import pandas as pd\n",
        "from google.colab import drive\n",
        "df = pd.read_excel(\"/content/drive/MyDrive/CrossDomain_FakeReviewDetection/Datasets/fake reviews dataset___ includes computer generated ones.xlsx\")\n",
        "df.head()"
      ],
      "metadata": {
        "id": "XROYkKPHVvo2"
      },
      "execution_count": null,
      "outputs": []
    },
    {
      "cell_type": "code",
      "source": [
        "print(df.value_counts(['category','label']))\n",
        "df['spam']=df['label'].apply(lambda x: 1 if x=='CG' else 0)\n",
        "gk = df.groupby('category')"
      ],
      "metadata": {
        "colab": {
          "base_uri": "https://localhost:8080/"
        },
        "id": "1j6DhbRhFfS5",
        "outputId": "7f143d95-7431-4823-915e-dbe4be67606f"
      },
      "execution_count": null,
      "outputs": [
        {
          "output_type": "stream",
          "name": "stdout",
          "text": [
            "category                      label\n",
            "Kindle_Store_5                CG       2365\n",
            "                              OR       2365\n",
            "Books_5                       OR       2185\n",
            "                              CG       2185\n",
            "Pet_Supplies_5                CG       2127\n",
            "                              OR       2127\n",
            "Home_and_Kitchen_5            CG       2028\n",
            "                              OR       2028\n",
            "Electronics_5                 CG       1994\n",
            "                              OR       1994\n",
            "Sports_and_Outdoors_5         CG       1973\n",
            "                              OR       1973\n",
            "Tools_and_Home_Improvement_5  OR       1929\n",
            "                              CG       1929\n",
            "Clothing_Shoes_and_Jewelry_5  OR       1924\n",
            "                              CG       1924\n",
            "Toys_and_Games_5              CG       1897\n",
            "                              OR       1897\n",
            "Movies_and_TV_5               OR       1794\n",
            "                              CG       1794\n",
            "dtype: int64\n"
          ]
        }
      ]
    },
    {
      "cell_type": "code",
      "source": [
        "df1 = gk.get_group('Kindle_Store_5')\n",
        "df2 = gk.get_group('Books_5')\n",
        "df3 = gk.get_group('Pet_Supplies_5')\n",
        "# df4 = gk.get_group('')"
      ],
      "metadata": {
        "id": "bAEbHKKeXi1F"
      },
      "execution_count": null,
      "outputs": []
    },
    {
      "cell_type": "code",
      "source": [
        "!pip install transformers \n",
        "\n",
        "import torch\n",
        "from transformers import AutoTokenizer, AutoModel\n",
        "\n",
        "device = torch.device('cuda' if torch.cuda.is_available() else 'cpu')\n",
        "\n",
        "tokenizer = AutoTokenizer.from_pretrained(\"distilbert-base-uncased\")\n",
        "model = AutoModel.from_pretrained(\"distilbert-base-uncased\").to(device)"
      ],
      "metadata": {
        "id": "bOhOi4lm-2cl"
      },
      "execution_count": null,
      "outputs": []
    },
    {
      "cell_type": "code",
      "source": [
        "\n",
        "tokenized_train = tokenizer(df1[\"text_\"].values.tolist(), padding = True, truncation = True, return_tensors=\"pt\")\n",
        "tokenized_val = tokenizer(df2[\"text_\"].values.tolist() , padding = True, truncation = True,  return_tensors=\"pt\")\n",
        "\n",
        "print(tokenized_train.keys())\n",
        "\n",
        "#move on device (GPU)\n",
        "tokenized_train = {k:torch.tensor(v).to(device) for k,v in tokenized_train.items()}\n",
        "tokenized_val = {k:torch.tensor(v).to(device) for k,v in tokenized_val.items()}"
      ],
      "metadata": {
        "id": "58E_0yeZfDvy",
        "colab": {
          "base_uri": "https://localhost:8080/"
        },
        "outputId": "6b4c8fb8-c671-48a5-a2f8-fc931fbde7f9"
      },
      "execution_count": null,
      "outputs": [
        {
          "output_type": "stream",
          "name": "stdout",
          "text": [
            "dict_keys(['input_ids', 'attention_mask'])\n"
          ]
        },
        {
          "output_type": "stream",
          "name": "stderr",
          "text": [
            "<ipython-input-7-c6774dd54581>:7: UserWarning: To copy construct from a tensor, it is recommended to use sourceTensor.clone().detach() or sourceTensor.clone().detach().requires_grad_(True), rather than torch.tensor(sourceTensor).\n",
            "  tokenized_train = {k:torch.tensor(v).to(device) for k,v in tokenized_train.items()}\n",
            "<ipython-input-7-c6774dd54581>:8: UserWarning: To copy construct from a tensor, it is recommended to use sourceTensor.clone().detach() or sourceTensor.clone().detach().requires_grad_(True), rather than torch.tensor(sourceTensor).\n",
            "  tokenized_val = {k:torch.tensor(v).to(device) for k,v in tokenized_val.items()}\n"
          ]
        }
      ]
    },
    {
      "cell_type": "code",
      "source": [
        "batch_size = 8\n",
        "\n",
        "# tokenize the training data\n",
        "train_inputs = [df1[\"text_\"].values[i:i+batch_size].tolist() for i in range(0, len(df1), batch_size)]\n",
        "tokenized_train = [tokenizer(batch, padding=True, truncation=True, return_tensors=\"pt\") for batch in train_inputs]\n",
        "\n",
        "# tokenize the validation data\n",
        "val_inputs = [df2[\"text_\"].values[i:i+batch_size].tolist() for i in range(0, len(df2), batch_size)]\n",
        "tokenized_val = [tokenizer(batch, padding=True, truncation=True, return_tensors=\"pt\") for batch in val_inputs]\n",
        "\n",
        "# move to device\n",
        "tokenized_train = [{k: v.to(device) for k, v in batch.items()} for batch in tokenized_train]\n",
        "tokenized_val = [{k: v.to(device) for k, v in batch.items()} for batch in tokenized_val]\n",
        "\n",
        "xs = []\n",
        "xt = []\n",
        "\n",
        "with torch.no_grad():\n",
        "    for batch in tokenized_train:\n",
        "        hidden_train = model(**batch)\n",
        "        cls_train = hidden_train.last_hidden_state[:, 0, :]\n",
        "        xs.append(cls_train.to(\"cpu\").numpy())\n",
        "    for batch in tokenized_val:\n",
        "        hidden_val = model(**batch)\n",
        "        cls_val = hidden_val.last_hidden_state[:, 0, :]\n",
        "        xt.append(cls_val.to(\"cpu\").numpy())\n"
      ],
      "metadata": {
        "id": "zngGM4fj2LkE"
      },
      "execution_count": null,
      "outputs": []
    },
    {
      "cell_type": "code",
      "source": [
        "import numpy\n",
        "Xs = numpy.vstack( xs )\n",
        "Xt = numpy.vstack( xt)"
      ],
      "metadata": {
        "id": "59D5TEQ7BEgM"
      },
      "execution_count": null,
      "outputs": []
    },
    {
      "cell_type": "code",
      "source": [
        "from sklearn.model_selection import train_test_split\n",
        "\n",
        "ys = df1['spam'].to_numpy()\n",
        "yt = df2['spam'].to_numpy()\n",
        "\n",
        "print(Xs.shape, ys.shape)\n",
        "print(Xt.shape, yt.shape)\n",
        "\n",
        "Xs_train, Xs_test, ys_train, ys_test = train_test_split(Xs, ys, test_size=0.2, random_state=42)\n",
        "Xt_train, Xt_test, yt_train, yt_test = train_test_split(Xt, yt, test_size=0.2, random_state=42)\n"
      ],
      "metadata": {
        "id": "y4065YhHBRxU",
        "colab": {
          "base_uri": "https://localhost:8080/"
        },
        "outputId": "04633ec3-b0b9-4f20-9b99-6eb126df0ace"
      },
      "execution_count": null,
      "outputs": [
        {
          "output_type": "stream",
          "name": "stdout",
          "text": [
            "(4730, 768) (4730,)\n",
            "(4370, 768) (4370,)\n"
          ]
        }
      ]
    },
    {
      "cell_type": "code",
      "source": [
        "batch_size = 16\n",
        "FF=[];\n",
        "def build_model(shallow_domain_classifier=True):\n",
        "    X = tf.compat.v1.placeholder(tf.float32, [None, 768], name='X') # Input data\n",
        "    Y_ind = tf.compat.v1.placeholder(tf.int32, [None], name='Y_ind')  # Class index\n",
        "    D_ind = tf.compat.v1.placeholder(tf.int32, [None], name='D_ind')  # Domain index\n",
        "    train = tf.compat.v1.placeholder(tf.bool, [], name='train')       # Switch for routing data to class predictor\n",
        "    l = tf.compat.v1.placeholder(tf.float32, [], name='l')        # Gradient reversal scaler\n",
        "\n",
        "    Y = tf.one_hot(Y_ind, 2)\n",
        "    D = tf.one_hot(D_ind, 2)\n",
        "\n",
        "    # Feature extractor - single layer\n",
        "    W0 = weight_variable([768, 128])\n",
        "    b0 = bias_variable([128])\n",
        "    F = tf.nn.relu(tf.matmul(X, W0) + b0, name='feature')\n",
        "    FF=F;\n",
        "    # Label predictor - single layer\n",
        "    f = tf.cond(train, lambda: tf.slice(F, [0, 0], [batch_size // 2, -1]), lambda: F)\n",
        "    y = tf.cond(train, lambda: tf.slice(Y, [0, 0], [batch_size // 2, -1]), lambda: Y)\n",
        "    \n",
        "\n",
        "    W1 = weight_variable([128, 2])\n",
        "    b1 = bias_variable([2])\n",
        "    p_logit = tf.matmul(f, W1) + b1\n",
        "    p = tf.nn.softmax(p_logit)\n",
        "    p_loss = tf.nn.softmax_cross_entropy_with_logits(logits=p_logit, labels=y)\n",
        "\n",
        "    # Domain predictor - shallow\n",
        "    f_ = flip_gradient(F, l)\n",
        "\n",
        "    if shallow_domain_classifier:\n",
        "        W2 = weight_variable([128, 2])\n",
        "        b2 = bias_variable([2])\n",
        "        d_logit = tf.matmul(f_, W2) + b2\n",
        "        d = tf.nn.softmax(d_logit)\n",
        "        d_loss = tf.nn.softmax_cross_entropy_with_logits(logits=d_logit, labels=D)\n",
        "\n",
        "    else:\n",
        "        W2 = weight_variable([128, 128])\n",
        "        b2 = bias_variable([128])\n",
        "        h2 = tf.nn.relu(tf.matmul(f_, W2) + b2)\n",
        "\n",
        "        W3 = weight_variable([128, 2])\n",
        "        b3 = bias_variable([2])\n",
        "        d_logit = tf.matmul(h2, W3) + b3\n",
        "        d = tf.nn.softmax(d_logit)\n",
        "        d_loss = tf.nn.softmax_cross_entropy_with_logits(logits=d_logit, labels=D)\n",
        "\n",
        "\n",
        "    # Optimization\n",
        "    pred_loss = tf.reduce_sum(p_loss, name='pred_loss')\n",
        "    domain_loss = tf.reduce_sum(d_loss, name='domain_loss')\n",
        "    total_loss = tf.add(pred_loss, domain_loss, name='total_loss')\n",
        "\n",
        "    pred_train_op = tf.compat.v1.train.AdamOptimizer().minimize(pred_loss, name='pred_train_op')\n",
        "    domain_train_op = tf.compat.v1.train.AdamOptimizer().minimize(domain_loss, name='domain_train_op')\n",
        "    dann_train_op = tf.compat.v1.train.AdamOptimizer().minimize(total_loss, name='dann_train_op')\n",
        "\n",
        "    # Evaluation\n",
        "    p_acc = tf.reduce_mean(tf.cast(tf.equal(tf.argmax(y, 1), tf.argmax(p, 1)), tf.float32), name='p_acc')\n",
        "    d_acc = tf.reduce_mean(tf.cast(tf.equal(tf.argmax(D, 1), tf.argmax(d, 1)), tf.float32), name='d_acc')"
      ],
      "metadata": {
        "id": "ezeHq4jhWU8g"
      },
      "execution_count": null,
      "outputs": []
    },
    {
      "cell_type": "code",
      "source": [
        "tf.compat.v1.disable_eager_execution()\n",
        "build_model()\n",
        "sess = tf.compat.v1.InteractiveSession()\n",
        "results=[[{} for x in range(6)] for y in range(6)]\n",
        "# ix,iy=0,0\n",
        "def train_and_evaluate(sess, train_op_name, train_loss_name,ix=0,iy=0, grad_scale=None, num_batches=200, verbose=True):\n",
        "    # Create batch builders\n",
        "    S_batches = batch_generator([Xs_train, ys_train], batch_size // 2)\n",
        "    T_batches = batch_generator([Xt_train, yt_train], batch_size // 2)\n",
        "    \n",
        "    # Get output tensors and train op\n",
        "    d_acc = sess.graph.get_tensor_by_name('d_acc:0')\n",
        "    p_acc = sess.graph.get_tensor_by_name('p_acc:0')\n",
        "    train_loss = sess.graph.get_tensor_by_name(train_loss_name + ':0')\n",
        "    train_op = sess.graph.get_operation_by_name(train_op_name)\n",
        "    \n",
        "    sess.run(tf.compat.v1.global_variables_initializer())\n",
        "    for i in range(num_batches):\n",
        "\n",
        "        # If no grad_scale, use a schedule\n",
        "        if grad_scale is None:\n",
        "            p = float(i) / num_batches\n",
        "            lp = 2. / (1. + np.exp(-10. * p)) - 1\n",
        "        else:\n",
        "            lp = grad_scale\n",
        "\n",
        "        X0, y0 = next(S_batches)\n",
        "        X1, y1 = next(T_batches)\n",
        "        Xb = np.vstack([X0, X1])\n",
        "        yb = np.hstack([y0, y1])\n",
        "        D_labels = np.hstack([np.zeros(batch_size // 2, dtype=np.int32),\n",
        "                              np.ones(batch_size // 2, dtype=np.int32)])\n",
        "\n",
        "        _, loss, da, pa = sess.run([train_op, train_loss, d_acc, p_acc],\n",
        "                                   feed_dict={'X:0': Xb, 'Y_ind:0': yb, 'D_ind:0': D_labels,\n",
        "                                              'train:0': True, 'l:0': lp})\n",
        "\n",
        "        if verbose and i % 200 == 0:\n",
        "            print('loss: {}, domain accuracy: {}, class accuracy: {}'.format(loss, da, pa))\n",
        "\n",
        "            \n",
        "    # Get final accuracies on whole dataset\n",
        "    das, pas = sess.run([d_acc, p_acc], feed_dict={'X:0': Xs_test, 'Y_ind:0': ys_test, \n",
        "                            'D_ind:0': np.zeros(Xs_test.shape[0], dtype=np.int32), 'train:0': False, 'l:0': 1.0})\n",
        "    dat, pat = sess.run([d_acc, p_acc], feed_dict={'X:0': Xt_test, 'Y_ind:0': yt_test,\n",
        "                            'D_ind:0': np.ones(Xt_test.shape[0], dtype=np.int32), 'train:0': False, 'l:0': 1.0})\n",
        "\n",
        "    print('Source domain: ', das)\n",
        "    print('Source class: ', pas)\n",
        "    print('Target domain: ', dat)\n",
        "    print('Target class: ', pat)\n",
        "    results[ix][iy]['Source Domain']=das\n",
        "    results[ix][iy]['Source Class']=pas\n",
        "    results[ix][iy]['Target Domain']=dat\n",
        "    results[ix][iy]['Target Class']=pat\n",
        "    # extract_and_plot_pca_feats(sess)\n",
        "\n",
        "\n",
        "def extract_and_plot_pca_feats(sess, feat_tensor_name='feature'):\n",
        "    F = sess.graph.get_tensor_by_name(feat_tensor_name + ':0')\n",
        "    emb_s = sess.run(F, feed_dict={'X:0': Xs})\n",
        "    emb_t = sess.run(F, feed_dict={'X:0': Xt})\n",
        "    emb_all = np.vstack([emb_s, emb_t])\n",
        "\n",
        "    pca = PCA(n_components=2)\n",
        "    pca_emb = pca.fit_transform(emb_all)\n",
        "\n",
        "    num = pca_emb.shape[0] // 2\n",
        "    plt.scatter(pca_emb[:num,0], pca_emb[:num,1], c=ys, cmap='coolwarm', alpha=0.4)\n",
        "    plt.scatter(pca_emb[num:,0], pca_emb[num:,1], c=yt, cmap='cool', alpha=0.4)\n",
        "    plt.show()\n",
        "\n"
      ],
      "metadata": {
        "id": "ogXXzI1vXrLP"
      },
      "execution_count": null,
      "outputs": []
    },
    {
      "cell_type": "code",
      "source": [
        "import pandas as pd\n",
        "pd.options.mode.chained_assignment = None \n",
        "import numpy as np\n",
        "import re\n",
        "import nltk\n",
        "\n",
        "from gensim.models import word2vec\n",
        "\n",
        "from sklearn.manifold import TSNE\n",
        "import matplotlib.pyplot as plt\n",
        "%matplotlib inline\n",
        "def tsne_plot(model):\n",
        "    \"Creates and TSNE model and plots it\"\n",
        "    labels = []\n",
        "    tokens = []\n",
        "    \n",
        "    domains=['Kindle_Store_5','Books_5','Pet_Supplies_5','Home_and_Kitchen_5','Sports_and_Outdoors_5','Electronics_5']\n",
        "\n",
        "    for word in range(6):\n",
        "        tokens.append((domains[word]))\n",
        "        labels.append((model[word]))\n",
        "    \n",
        "    tsne_model = TSNE(perplexity=40, n_components=2, init='pca', n_iter=2500, random_state=23)\n",
        "    new_values = tsne_model.fit_transform(tokens)\n",
        "\n",
        "    x = []\n",
        "    y = []\n",
        "    for value in new_values:\n",
        "        x.append(value[0])\n",
        "        y.append(value[1])\n",
        "        \n",
        "    plt.figure(figsize=(16, 16)) \n",
        "    for i in range(len(x)):\n",
        "        plt.scatter(x[i],y[i])\n",
        "        plt.annotate(labels[i],\n",
        "                     xy=(x[i], y[i]),\n",
        "                     xytext=(5, 2),\n",
        "                     textcoords='offset points',\n",
        "                     ha='right',\n",
        "                     va='bottom')\n",
        "    plt.show()\n",
        "# tsne_plot(df)"
      ],
      "metadata": {
        "id": "rzaFdTh5DusH"
      },
      "execution_count": null,
      "outputs": []
    },
    {
      "cell_type": "code",
      "source": [
        "# Kindle_Store_5                CG       2365\n",
        "#                               OR       2365\n",
        "# Books_5                       OR       2185\n",
        "#                               CG       2185\n",
        "# Pet_Supplies_5                CG       2127\n",
        "#                               OR       2127\n",
        "# Home_and_Kitchen_5            CG       2028\n",
        "#                               OR       2028\n",
        "# Electronics_5                 CG       1994\n",
        "#                               OR       1994\n",
        "# Sports_and_Outdoors_5         CG       1973\n",
        "#                               OR       1973\n",
        "DF=[]\n",
        "DF.append(gk.get_group('Kindle_Store_5'))\n",
        "DF.append(gk.get_group('Books_5'))\n",
        "DF.append(gk.get_group('Pet_Supplies_5'))\n",
        "DF.append(gk.get_group('Home_and_Kitchen_5'))\n",
        "DF.append(gk.get_group('Electronics_5'))\n",
        "DF.append(gk.get_group('Sports_and_Outdoors_5'))\n",
        "\n",
        "# !pip install transformers \n",
        "\n",
        "\n",
        "\n",
        "\n",
        "# import torch\n",
        "# from transformers import AutoTokenizer, AutoModel\n",
        "def data_loader(x=0,y=0):\n",
        "  ix=x;\n",
        "  iy=y;\n",
        "  # print(x,y)\n",
        "  \n",
        "  device = torch.device('cuda' if torch.cuda.is_available() else 'cpu')\n",
        "\n",
        "  tokenizer = AutoTokenizer.from_pretrained(\"distilbert-base-uncased\")\n",
        "  model = AutoModel.from_pretrained(\"distilbert-base-uncased\").to(device)\n",
        "\n",
        "\n",
        "\n",
        "\n",
        "\n",
        "\n",
        "  tokenized_train = tokenizer(DF[x][\"text_\"].values.tolist(), padding = True, truncation = True, return_tensors=\"pt\")\n",
        "  tokenized_val = tokenizer(DF[y][\"text_\"].values.tolist() , padding = True, truncation = True,  return_tensors=\"pt\")\n",
        "\n",
        "  # print(tokenized_train.keys())\n",
        "\n",
        "  #move on device (GPU)\n",
        "  tokenized_train = {k:torch.tensor(v).to(device) for k,v in tokenized_train.items()}\n",
        "  tokenized_val = {k:torch.tensor(v).to(device) for k,v in tokenized_val.items()}\n",
        "\n",
        "\n",
        "  batch_size = 8\n",
        "\n",
        "  # tokenize the training data\n",
        "  # print(DF[x])\n",
        "  train_inputs = [DF[x][\"text_\"].values[i:i+batch_size].tolist() for i in range(0, len(DF[x]), batch_size)]\n",
        "  tokenized_train = [tokenizer(batch, padding=True, truncation=True, return_tensors=\"pt\") for batch in train_inputs]\n",
        "\n",
        "  # tokenize the validation data\n",
        "  val_inputs = [DF[y][\"text_\"].values[i:i+batch_size].tolist() for i in range(0, len(DF[y]), batch_size)]\n",
        "  tokenized_val = [tokenizer(batch, padding=True, truncation=True, return_tensors=\"pt\") for batch in val_inputs]\n",
        "\n",
        "  # move to device\n",
        "  tokenized_train = [{k: v.to(device) for k, v in batch.items()} for batch in tokenized_train]\n",
        "  tokenized_val = [{k: v.to(device) for k, v in batch.items()} for batch in tokenized_val]\n",
        "\n",
        "  xs = []\n",
        "  xt = []\n",
        "\n",
        "  with torch.no_grad():\n",
        "      for batch in tokenized_train:\n",
        "          hidden_train = model(**batch)\n",
        "          cls_train = hidden_train.last_hidden_state[:, 0, :]\n",
        "          xs.append(cls_train.to(\"cpu\").numpy())\n",
        "      for batch in tokenized_val:\n",
        "          hidden_val = model(**batch)\n",
        "          cls_val = hidden_val.last_hidden_state[:, 0, :]\n",
        "          xt.append(cls_val.to(\"cpu\").numpy())\n",
        "\n",
        "\n",
        "\n",
        "\n",
        "  import numpy\n",
        "  Xs = numpy.vstack( xs )\n",
        "  Xt = numpy.vstack( xt)\n",
        "\n",
        "\n",
        "\n",
        "\n",
        "\n",
        "  from sklearn.model_selection import train_test_split\n",
        "\n",
        "  ys = DF[x]['spam'].to_numpy()\n",
        "  yt = DF[y]['spam'].to_numpy()\n",
        "\n",
        "  # print(Xs.shape, ys.shape)\n",
        "  # print(Xt.shape, yt.shape)\n",
        "\n",
        "  Xs_train, Xs_test, ys_train, ys_test = train_test_split(Xs, ys, test_size=0.2, random_state=42)\n",
        "  Xt_train, Xt_test, yt_train, yt_test = train_test_split(Xt, yt, test_size=0.2, random_state=42)\n",
        "  \n",
        "  domains=['Kindle_Store_5','Books_5','Pet_Supplies_5','Home_and_Kitchen_5','Sports_and_Outdoors_5','Electronics_5']\n",
        "  print( domains[x] +\" vs \"+domains[y] )\n",
        "  batch_size=16\n",
        "# for i in range(1):\n",
        "#   for j in range(1):\n",
        "#     data_loader(i,j);\n",
        "    # train_and_evaluate(sess, 'dann_train_op', 'total_loss', verbose=False)\n",
        "\n",
        "\n"
      ],
      "metadata": {
        "id": "qtXHlkv7rzTu"
      },
      "execution_count": null,
      "outputs": []
    },
    {
      "cell_type": "code",
      "source": [
        "# domains=['Kindle_Store_5','Books_5','Pet_Supplies_5','Home_and_Kitchen_5','Sports_and_Outdoors_5','Electronics_5']\n",
        "# train_and_evaluate(sess, 'dann_train_op', 'total_loss', verbose=False)\n",
        "\n",
        "for i in range(6):\n",
        "  for j in range(6):\n",
        "    data_loader(i,j);\n",
        "    # print( domains[i] +\" vs \"+domains[j] )\n",
        "    train_and_evaluate(sess, 'dann_train_op', 'total_loss', verbose=False,ix=i,iy=j)\n",
        "    print(results)"
      ],
      "metadata": {
        "colab": {
          "base_uri": "https://localhost:8080/"
        },
        "id": "zfof_AHu-HWY",
        "outputId": "376c04fc-f343-4b31-a95a-ca6a8c23afbb"
      },
      "execution_count": null,
      "outputs": [
        {
          "output_type": "stream",
          "name": "stderr",
          "text": [
            "Some weights of the model checkpoint at distilbert-base-uncased were not used when initializing DistilBertModel: ['vocab_projector.bias', 'vocab_projector.weight', 'vocab_transform.bias', 'vocab_layer_norm.bias', 'vocab_layer_norm.weight', 'vocab_transform.weight']\n",
            "- This IS expected if you are initializing DistilBertModel from the checkpoint of a model trained on another task or with another architecture (e.g. initializing a BertForSequenceClassification model from a BertForPreTraining model).\n",
            "- This IS NOT expected if you are initializing DistilBertModel from the checkpoint of a model that you expect to be exactly identical (initializing a BertForSequenceClassification model from a BertForSequenceClassification model).\n",
            "<ipython-input-18-94ed623c1990>:49: UserWarning: To copy construct from a tensor, it is recommended to use sourceTensor.clone().detach() or sourceTensor.clone().detach().requires_grad_(True), rather than torch.tensor(sourceTensor).\n",
            "  tokenized_train = {k:torch.tensor(v).to(device) for k,v in tokenized_train.items()}\n",
            "<ipython-input-18-94ed623c1990>:50: UserWarning: To copy construct from a tensor, it is recommended to use sourceTensor.clone().detach() or sourceTensor.clone().detach().requires_grad_(True), rather than torch.tensor(sourceTensor).\n",
            "  tokenized_val = {k:torch.tensor(v).to(device) for k,v in tokenized_val.items()}\n"
          ]
        },
        {
          "output_type": "stream",
          "name": "stdout",
          "text": [
            "Kindle_Store_5 vs Kindle_Store_5\n",
            "Source domain:  0.4281184\n",
            "Source class:  0.8562368\n",
            "Target domain:  0.201373\n",
            "Target class:  0.84324944\n",
            "[[{'Source Domain': 0.4281184, 'Source Class': 0.8562368, 'Target Domain': 0.201373, 'Target Class': 0.84324944}, {}, {}, {}, {}, {}], [{}, {}, {}, {}, {}, {}], [{}, {}, {}, {}, {}, {}], [{}, {}, {}, {}, {}, {}], [{}, {}, {}, {}, {}, {}], [{}, {}, {}, {}, {}, {}]]\n"
          ]
        },
        {
          "output_type": "stream",
          "name": "stderr",
          "text": [
            "Some weights of the model checkpoint at distilbert-base-uncased were not used when initializing DistilBertModel: ['vocab_projector.bias', 'vocab_projector.weight', 'vocab_transform.bias', 'vocab_layer_norm.bias', 'vocab_layer_norm.weight', 'vocab_transform.weight']\n",
            "- This IS expected if you are initializing DistilBertModel from the checkpoint of a model trained on another task or with another architecture (e.g. initializing a BertForSequenceClassification model from a BertForPreTraining model).\n",
            "- This IS NOT expected if you are initializing DistilBertModel from the checkpoint of a model that you expect to be exactly identical (initializing a BertForSequenceClassification model from a BertForSequenceClassification model).\n"
          ]
        },
        {
          "output_type": "stream",
          "name": "stdout",
          "text": [
            "Kindle_Store_5 vs Books_5\n",
            "Source domain:  0.41120508\n",
            "Source class:  0.8435518\n",
            "Target domain:  0.29290617\n",
            "Target class:  0.8089245\n",
            "[[{'Source Domain': 0.4281184, 'Source Class': 0.8562368, 'Target Domain': 0.201373, 'Target Class': 0.84324944}, {'Source Domain': 0.41120508, 'Source Class': 0.8435518, 'Target Domain': 0.29290617, 'Target Class': 0.8089245}, {}, {}, {}, {}], [{}, {}, {}, {}, {}, {}], [{}, {}, {}, {}, {}, {}], [{}, {}, {}, {}, {}, {}], [{}, {}, {}, {}, {}, {}], [{}, {}, {}, {}, {}, {}]]\n"
          ]
        },
        {
          "output_type": "stream",
          "name": "stderr",
          "text": [
            "Some weights of the model checkpoint at distilbert-base-uncased were not used when initializing DistilBertModel: ['vocab_projector.bias', 'vocab_projector.weight', 'vocab_transform.bias', 'vocab_layer_norm.bias', 'vocab_layer_norm.weight', 'vocab_transform.weight']\n",
            "- This IS expected if you are initializing DistilBertModel from the checkpoint of a model trained on another task or with another architecture (e.g. initializing a BertForSequenceClassification model from a BertForPreTraining model).\n",
            "- This IS NOT expected if you are initializing DistilBertModel from the checkpoint of a model that you expect to be exactly identical (initializing a BertForSequenceClassification model from a BertForSequenceClassification model).\n"
          ]
        },
        {
          "output_type": "stream",
          "name": "stdout",
          "text": [
            "Kindle_Store_5 vs Pet_Supplies_5\n",
            "Source domain:  0.6215645\n",
            "Source class:  0.832981\n",
            "Target domain:  0.18764302\n",
            "Target class:  0.79290617\n",
            "[[{'Source Domain': 0.4281184, 'Source Class': 0.8562368, 'Target Domain': 0.201373, 'Target Class': 0.84324944}, {'Source Domain': 0.41120508, 'Source Class': 0.8435518, 'Target Domain': 0.29290617, 'Target Class': 0.8089245}, {'Source Domain': 0.6215645, 'Source Class': 0.832981, 'Target Domain': 0.18764302, 'Target Class': 0.79290617}, {}, {}, {}], [{}, {}, {}, {}, {}, {}], [{}, {}, {}, {}, {}, {}], [{}, {}, {}, {}, {}, {}], [{}, {}, {}, {}, {}, {}], [{}, {}, {}, {}, {}, {}]]\n"
          ]
        },
        {
          "output_type": "stream",
          "name": "stderr",
          "text": [
            "Some weights of the model checkpoint at distilbert-base-uncased were not used when initializing DistilBertModel: ['vocab_projector.bias', 'vocab_projector.weight', 'vocab_transform.bias', 'vocab_layer_norm.bias', 'vocab_layer_norm.weight', 'vocab_transform.weight']\n",
            "- This IS expected if you are initializing DistilBertModel from the checkpoint of a model trained on another task or with another architecture (e.g. initializing a BertForSequenceClassification model from a BertForPreTraining model).\n",
            "- This IS NOT expected if you are initializing DistilBertModel from the checkpoint of a model that you expect to be exactly identical (initializing a BertForSequenceClassification model from a BertForSequenceClassification model).\n"
          ]
        },
        {
          "output_type": "stream",
          "name": "stdout",
          "text": [
            "Kindle_Store_5 vs Home_and_Kitchen_5\n",
            "Source domain:  0.4820296\n",
            "Source class:  0.82241017\n",
            "Target domain:  0.26773456\n",
            "Target class:  0.812357\n",
            "[[{'Source Domain': 0.4281184, 'Source Class': 0.8562368, 'Target Domain': 0.201373, 'Target Class': 0.84324944}, {'Source Domain': 0.41120508, 'Source Class': 0.8435518, 'Target Domain': 0.29290617, 'Target Class': 0.8089245}, {'Source Domain': 0.6215645, 'Source Class': 0.832981, 'Target Domain': 0.18764302, 'Target Class': 0.79290617}, {'Source Domain': 0.4820296, 'Source Class': 0.82241017, 'Target Domain': 0.26773456, 'Target Class': 0.812357}, {}, {}], [{}, {}, {}, {}, {}, {}], [{}, {}, {}, {}, {}, {}], [{}, {}, {}, {}, {}, {}], [{}, {}, {}, {}, {}, {}], [{}, {}, {}, {}, {}, {}]]\n"
          ]
        },
        {
          "output_type": "stream",
          "name": "stderr",
          "text": [
            "Some weights of the model checkpoint at distilbert-base-uncased were not used when initializing DistilBertModel: ['vocab_projector.bias', 'vocab_projector.weight', 'vocab_transform.bias', 'vocab_layer_norm.bias', 'vocab_layer_norm.weight', 'vocab_transform.weight']\n",
            "- This IS expected if you are initializing DistilBertModel from the checkpoint of a model trained on another task or with another architecture (e.g. initializing a BertForSequenceClassification model from a BertForPreTraining model).\n",
            "- This IS NOT expected if you are initializing DistilBertModel from the checkpoint of a model that you expect to be exactly identical (initializing a BertForSequenceClassification model from a BertForSequenceClassification model).\n"
          ]
        },
        {
          "output_type": "stream",
          "name": "stdout",
          "text": [
            "Kindle_Store_5 vs Sports_and_Outdoors_5\n",
            "Source domain:  0.41754758\n",
            "Source class:  0.8498943\n",
            "Target domain:  0.23455377\n",
            "Target class:  0.7894737\n",
            "[[{'Source Domain': 0.4281184, 'Source Class': 0.8562368, 'Target Domain': 0.201373, 'Target Class': 0.84324944}, {'Source Domain': 0.41120508, 'Source Class': 0.8435518, 'Target Domain': 0.29290617, 'Target Class': 0.8089245}, {'Source Domain': 0.6215645, 'Source Class': 0.832981, 'Target Domain': 0.18764302, 'Target Class': 0.79290617}, {'Source Domain': 0.4820296, 'Source Class': 0.82241017, 'Target Domain': 0.26773456, 'Target Class': 0.812357}, {'Source Domain': 0.41754758, 'Source Class': 0.8498943, 'Target Domain': 0.23455377, 'Target Class': 0.7894737}, {}], [{}, {}, {}, {}, {}, {}], [{}, {}, {}, {}, {}, {}], [{}, {}, {}, {}, {}, {}], [{}, {}, {}, {}, {}, {}], [{}, {}, {}, {}, {}, {}]]\n"
          ]
        },
        {
          "output_type": "stream",
          "name": "stderr",
          "text": [
            "Some weights of the model checkpoint at distilbert-base-uncased were not used when initializing DistilBertModel: ['vocab_projector.bias', 'vocab_projector.weight', 'vocab_transform.bias', 'vocab_layer_norm.bias', 'vocab_layer_norm.weight', 'vocab_transform.weight']\n",
            "- This IS expected if you are initializing DistilBertModel from the checkpoint of a model trained on another task or with another architecture (e.g. initializing a BertForSequenceClassification model from a BertForPreTraining model).\n",
            "- This IS NOT expected if you are initializing DistilBertModel from the checkpoint of a model that you expect to be exactly identical (initializing a BertForSequenceClassification model from a BertForSequenceClassification model).\n"
          ]
        },
        {
          "output_type": "stream",
          "name": "stdout",
          "text": [
            "Kindle_Store_5 vs Electronics_5\n",
            "Source domain:  0.3245243\n",
            "Source class:  0.7928118\n",
            "Target domain:  0.30549198\n",
            "Target class:  0.791762\n",
            "[[{'Source Domain': 0.4281184, 'Source Class': 0.8562368, 'Target Domain': 0.201373, 'Target Class': 0.84324944}, {'Source Domain': 0.41120508, 'Source Class': 0.8435518, 'Target Domain': 0.29290617, 'Target Class': 0.8089245}, {'Source Domain': 0.6215645, 'Source Class': 0.832981, 'Target Domain': 0.18764302, 'Target Class': 0.79290617}, {'Source Domain': 0.4820296, 'Source Class': 0.82241017, 'Target Domain': 0.26773456, 'Target Class': 0.812357}, {'Source Domain': 0.41754758, 'Source Class': 0.8498943, 'Target Domain': 0.23455377, 'Target Class': 0.7894737}, {'Source Domain': 0.3245243, 'Source Class': 0.7928118, 'Target Domain': 0.30549198, 'Target Class': 0.791762}], [{}, {}, {}, {}, {}, {}], [{}, {}, {}, {}, {}, {}], [{}, {}, {}, {}, {}, {}], [{}, {}, {}, {}, {}, {}], [{}, {}, {}, {}, {}, {}]]\n"
          ]
        },
        {
          "output_type": "stream",
          "name": "stderr",
          "text": [
            "Some weights of the model checkpoint at distilbert-base-uncased were not used when initializing DistilBertModel: ['vocab_projector.bias', 'vocab_projector.weight', 'vocab_transform.bias', 'vocab_layer_norm.bias', 'vocab_layer_norm.weight', 'vocab_transform.weight']\n",
            "- This IS expected if you are initializing DistilBertModel from the checkpoint of a model trained on another task or with another architecture (e.g. initializing a BertForSequenceClassification model from a BertForPreTraining model).\n",
            "- This IS NOT expected if you are initializing DistilBertModel from the checkpoint of a model that you expect to be exactly identical (initializing a BertForSequenceClassification model from a BertForSequenceClassification model).\n"
          ]
        },
        {
          "output_type": "stream",
          "name": "stdout",
          "text": [
            "Books_5 vs Kindle_Store_5\n",
            "Source domain:  0.38160676\n",
            "Source class:  0.8308668\n",
            "Target domain:  0.3249428\n",
            "Target class:  0.7768879\n",
            "[[{'Source Domain': 0.4281184, 'Source Class': 0.8562368, 'Target Domain': 0.201373, 'Target Class': 0.84324944}, {'Source Domain': 0.41120508, 'Source Class': 0.8435518, 'Target Domain': 0.29290617, 'Target Class': 0.8089245}, {'Source Domain': 0.6215645, 'Source Class': 0.832981, 'Target Domain': 0.18764302, 'Target Class': 0.79290617}, {'Source Domain': 0.4820296, 'Source Class': 0.82241017, 'Target Domain': 0.26773456, 'Target Class': 0.812357}, {'Source Domain': 0.41754758, 'Source Class': 0.8498943, 'Target Domain': 0.23455377, 'Target Class': 0.7894737}, {'Source Domain': 0.3245243, 'Source Class': 0.7928118, 'Target Domain': 0.30549198, 'Target Class': 0.791762}], [{'Source Domain': 0.38160676, 'Source Class': 0.8308668, 'Target Domain': 0.3249428, 'Target Class': 0.7768879}, {}, {}, {}, {}, {}], [{}, {}, {}, {}, {}, {}], [{}, {}, {}, {}, {}, {}], [{}, {}, {}, {}, {}, {}], [{}, {}, {}, {}, {}, {}]]\n"
          ]
        },
        {
          "output_type": "stream",
          "name": "stderr",
          "text": [
            "Some weights of the model checkpoint at distilbert-base-uncased were not used when initializing DistilBertModel: ['vocab_projector.bias', 'vocab_projector.weight', 'vocab_transform.bias', 'vocab_layer_norm.bias', 'vocab_layer_norm.weight', 'vocab_transform.weight']\n",
            "- This IS expected if you are initializing DistilBertModel from the checkpoint of a model trained on another task or with another architecture (e.g. initializing a BertForSequenceClassification model from a BertForPreTraining model).\n",
            "- This IS NOT expected if you are initializing DistilBertModel from the checkpoint of a model that you expect to be exactly identical (initializing a BertForSequenceClassification model from a BertForSequenceClassification model).\n"
          ]
        },
        {
          "output_type": "stream",
          "name": "stdout",
          "text": [
            "Books_5 vs Books_5\n",
            "Source domain:  0.38266385\n",
            "Source class:  0.8625793\n",
            "Target domain:  0.28146452\n",
            "Target class:  0.8306636\n",
            "[[{'Source Domain': 0.4281184, 'Source Class': 0.8562368, 'Target Domain': 0.201373, 'Target Class': 0.84324944}, {'Source Domain': 0.41120508, 'Source Class': 0.8435518, 'Target Domain': 0.29290617, 'Target Class': 0.8089245}, {'Source Domain': 0.6215645, 'Source Class': 0.832981, 'Target Domain': 0.18764302, 'Target Class': 0.79290617}, {'Source Domain': 0.4820296, 'Source Class': 0.82241017, 'Target Domain': 0.26773456, 'Target Class': 0.812357}, {'Source Domain': 0.41754758, 'Source Class': 0.8498943, 'Target Domain': 0.23455377, 'Target Class': 0.7894737}, {'Source Domain': 0.3245243, 'Source Class': 0.7928118, 'Target Domain': 0.30549198, 'Target Class': 0.791762}], [{'Source Domain': 0.38160676, 'Source Class': 0.8308668, 'Target Domain': 0.3249428, 'Target Class': 0.7768879}, {'Source Domain': 0.38266385, 'Source Class': 0.8625793, 'Target Domain': 0.28146452, 'Target Class': 0.8306636}, {}, {}, {}, {}], [{}, {}, {}, {}, {}, {}], [{}, {}, {}, {}, {}, {}], [{}, {}, {}, {}, {}, {}], [{}, {}, {}, {}, {}, {}]]\n"
          ]
        },
        {
          "output_type": "stream",
          "name": "stderr",
          "text": [
            "Some weights of the model checkpoint at distilbert-base-uncased were not used when initializing DistilBertModel: ['vocab_projector.bias', 'vocab_projector.weight', 'vocab_transform.bias', 'vocab_layer_norm.bias', 'vocab_layer_norm.weight', 'vocab_transform.weight']\n",
            "- This IS expected if you are initializing DistilBertModel from the checkpoint of a model trained on another task or with another architecture (e.g. initializing a BertForSequenceClassification model from a BertForPreTraining model).\n",
            "- This IS NOT expected if you are initializing DistilBertModel from the checkpoint of a model that you expect to be exactly identical (initializing a BertForSequenceClassification model from a BertForSequenceClassification model).\n"
          ]
        },
        {
          "output_type": "stream",
          "name": "stdout",
          "text": [
            "Books_5 vs Pet_Supplies_5\n",
            "Source domain:  0.52114165\n",
            "Source class:  0.82346725\n",
            "Target domain:  0.21510297\n",
            "Target class:  0.8215103\n",
            "[[{'Source Domain': 0.4281184, 'Source Class': 0.8562368, 'Target Domain': 0.201373, 'Target Class': 0.84324944}, {'Source Domain': 0.41120508, 'Source Class': 0.8435518, 'Target Domain': 0.29290617, 'Target Class': 0.8089245}, {'Source Domain': 0.6215645, 'Source Class': 0.832981, 'Target Domain': 0.18764302, 'Target Class': 0.79290617}, {'Source Domain': 0.4820296, 'Source Class': 0.82241017, 'Target Domain': 0.26773456, 'Target Class': 0.812357}, {'Source Domain': 0.41754758, 'Source Class': 0.8498943, 'Target Domain': 0.23455377, 'Target Class': 0.7894737}, {'Source Domain': 0.3245243, 'Source Class': 0.7928118, 'Target Domain': 0.30549198, 'Target Class': 0.791762}], [{'Source Domain': 0.38160676, 'Source Class': 0.8308668, 'Target Domain': 0.3249428, 'Target Class': 0.7768879}, {'Source Domain': 0.38266385, 'Source Class': 0.8625793, 'Target Domain': 0.28146452, 'Target Class': 0.8306636}, {'Source Domain': 0.52114165, 'Source Class': 0.82346725, 'Target Domain': 0.21510297, 'Target Class': 0.8215103}, {}, {}, {}], [{}, {}, {}, {}, {}, {}], [{}, {}, {}, {}, {}, {}], [{}, {}, {}, {}, {}, {}], [{}, {}, {}, {}, {}, {}]]\n"
          ]
        },
        {
          "output_type": "stream",
          "name": "stderr",
          "text": [
            "Some weights of the model checkpoint at distilbert-base-uncased were not used when initializing DistilBertModel: ['vocab_projector.bias', 'vocab_projector.weight', 'vocab_transform.bias', 'vocab_layer_norm.bias', 'vocab_layer_norm.weight', 'vocab_transform.weight']\n",
            "- This IS expected if you are initializing DistilBertModel from the checkpoint of a model trained on another task or with another architecture (e.g. initializing a BertForSequenceClassification model from a BertForPreTraining model).\n",
            "- This IS NOT expected if you are initializing DistilBertModel from the checkpoint of a model that you expect to be exactly identical (initializing a BertForSequenceClassification model from a BertForSequenceClassification model).\n"
          ]
        },
        {
          "output_type": "stream",
          "name": "stdout",
          "text": [
            "Books_5 vs Home_and_Kitchen_5\n",
            "Source domain:  0.2230444\n",
            "Source class:  0.85200846\n",
            "Target domain:  0.43020594\n",
            "Target class:  0.8180778\n",
            "[[{'Source Domain': 0.4281184, 'Source Class': 0.8562368, 'Target Domain': 0.201373, 'Target Class': 0.84324944}, {'Source Domain': 0.41120508, 'Source Class': 0.8435518, 'Target Domain': 0.29290617, 'Target Class': 0.8089245}, {'Source Domain': 0.6215645, 'Source Class': 0.832981, 'Target Domain': 0.18764302, 'Target Class': 0.79290617}, {'Source Domain': 0.4820296, 'Source Class': 0.82241017, 'Target Domain': 0.26773456, 'Target Class': 0.812357}, {'Source Domain': 0.41754758, 'Source Class': 0.8498943, 'Target Domain': 0.23455377, 'Target Class': 0.7894737}, {'Source Domain': 0.3245243, 'Source Class': 0.7928118, 'Target Domain': 0.30549198, 'Target Class': 0.791762}], [{'Source Domain': 0.38160676, 'Source Class': 0.8308668, 'Target Domain': 0.3249428, 'Target Class': 0.7768879}, {'Source Domain': 0.38266385, 'Source Class': 0.8625793, 'Target Domain': 0.28146452, 'Target Class': 0.8306636}, {'Source Domain': 0.52114165, 'Source Class': 0.82346725, 'Target Domain': 0.21510297, 'Target Class': 0.8215103}, {'Source Domain': 0.2230444, 'Source Class': 0.85200846, 'Target Domain': 0.43020594, 'Target Class': 0.8180778}, {}, {}], [{}, {}, {}, {}, {}, {}], [{}, {}, {}, {}, {}, {}], [{}, {}, {}, {}, {}, {}], [{}, {}, {}, {}, {}, {}]]\n"
          ]
        },
        {
          "output_type": "stream",
          "name": "stderr",
          "text": [
            "Some weights of the model checkpoint at distilbert-base-uncased were not used when initializing DistilBertModel: ['vocab_projector.bias', 'vocab_projector.weight', 'vocab_transform.bias', 'vocab_layer_norm.bias', 'vocab_layer_norm.weight', 'vocab_transform.weight']\n",
            "- This IS expected if you are initializing DistilBertModel from the checkpoint of a model trained on another task or with another architecture (e.g. initializing a BertForSequenceClassification model from a BertForPreTraining model).\n",
            "- This IS NOT expected if you are initializing DistilBertModel from the checkpoint of a model that you expect to be exactly identical (initializing a BertForSequenceClassification model from a BertForSequenceClassification model).\n"
          ]
        },
        {
          "output_type": "stream",
          "name": "stdout",
          "text": [
            "Books_5 vs Sports_and_Outdoors_5\n",
            "Source domain:  0.43763214\n",
            "Source class:  0.8477801\n",
            "Target domain:  0.29633868\n",
            "Target class:  0.82608694\n",
            "[[{'Source Domain': 0.4281184, 'Source Class': 0.8562368, 'Target Domain': 0.201373, 'Target Class': 0.84324944}, {'Source Domain': 0.41120508, 'Source Class': 0.8435518, 'Target Domain': 0.29290617, 'Target Class': 0.8089245}, {'Source Domain': 0.6215645, 'Source Class': 0.832981, 'Target Domain': 0.18764302, 'Target Class': 0.79290617}, {'Source Domain': 0.4820296, 'Source Class': 0.82241017, 'Target Domain': 0.26773456, 'Target Class': 0.812357}, {'Source Domain': 0.41754758, 'Source Class': 0.8498943, 'Target Domain': 0.23455377, 'Target Class': 0.7894737}, {'Source Domain': 0.3245243, 'Source Class': 0.7928118, 'Target Domain': 0.30549198, 'Target Class': 0.791762}], [{'Source Domain': 0.38160676, 'Source Class': 0.8308668, 'Target Domain': 0.3249428, 'Target Class': 0.7768879}, {'Source Domain': 0.38266385, 'Source Class': 0.8625793, 'Target Domain': 0.28146452, 'Target Class': 0.8306636}, {'Source Domain': 0.52114165, 'Source Class': 0.82346725, 'Target Domain': 0.21510297, 'Target Class': 0.8215103}, {'Source Domain': 0.2230444, 'Source Class': 0.85200846, 'Target Domain': 0.43020594, 'Target Class': 0.8180778}, {'Source Domain': 0.43763214, 'Source Class': 0.8477801, 'Target Domain': 0.29633868, 'Target Class': 0.82608694}, {}], [{}, {}, {}, {}, {}, {}], [{}, {}, {}, {}, {}, {}], [{}, {}, {}, {}, {}, {}], [{}, {}, {}, {}, {}, {}]]\n"
          ]
        },
        {
          "output_type": "stream",
          "name": "stderr",
          "text": [
            "Some weights of the model checkpoint at distilbert-base-uncased were not used when initializing DistilBertModel: ['vocab_projector.bias', 'vocab_projector.weight', 'vocab_transform.bias', 'vocab_layer_norm.bias', 'vocab_layer_norm.weight', 'vocab_transform.weight']\n",
            "- This IS expected if you are initializing DistilBertModel from the checkpoint of a model trained on another task or with another architecture (e.g. initializing a BertForSequenceClassification model from a BertForPreTraining model).\n",
            "- This IS NOT expected if you are initializing DistilBertModel from the checkpoint of a model that you expect to be exactly identical (initializing a BertForSequenceClassification model from a BertForSequenceClassification model).\n"
          ]
        },
        {
          "output_type": "stream",
          "name": "stdout",
          "text": [
            "Books_5 vs Electronics_5\n",
            "Source domain:  0.48942918\n",
            "Source class:  0.81289643\n",
            "Target domain:  0.28375286\n",
            "Target class:  0.7860412\n",
            "[[{'Source Domain': 0.4281184, 'Source Class': 0.8562368, 'Target Domain': 0.201373, 'Target Class': 0.84324944}, {'Source Domain': 0.41120508, 'Source Class': 0.8435518, 'Target Domain': 0.29290617, 'Target Class': 0.8089245}, {'Source Domain': 0.6215645, 'Source Class': 0.832981, 'Target Domain': 0.18764302, 'Target Class': 0.79290617}, {'Source Domain': 0.4820296, 'Source Class': 0.82241017, 'Target Domain': 0.26773456, 'Target Class': 0.812357}, {'Source Domain': 0.41754758, 'Source Class': 0.8498943, 'Target Domain': 0.23455377, 'Target Class': 0.7894737}, {'Source Domain': 0.3245243, 'Source Class': 0.7928118, 'Target Domain': 0.30549198, 'Target Class': 0.791762}], [{'Source Domain': 0.38160676, 'Source Class': 0.8308668, 'Target Domain': 0.3249428, 'Target Class': 0.7768879}, {'Source Domain': 0.38266385, 'Source Class': 0.8625793, 'Target Domain': 0.28146452, 'Target Class': 0.8306636}, {'Source Domain': 0.52114165, 'Source Class': 0.82346725, 'Target Domain': 0.21510297, 'Target Class': 0.8215103}, {'Source Domain': 0.2230444, 'Source Class': 0.85200846, 'Target Domain': 0.43020594, 'Target Class': 0.8180778}, {'Source Domain': 0.43763214, 'Source Class': 0.8477801, 'Target Domain': 0.29633868, 'Target Class': 0.82608694}, {'Source Domain': 0.48942918, 'Source Class': 0.81289643, 'Target Domain': 0.28375286, 'Target Class': 0.7860412}], [{}, {}, {}, {}, {}, {}], [{}, {}, {}, {}, {}, {}], [{}, {}, {}, {}, {}, {}], [{}, {}, {}, {}, {}, {}]]\n"
          ]
        },
        {
          "output_type": "stream",
          "name": "stderr",
          "text": [
            "Some weights of the model checkpoint at distilbert-base-uncased were not used when initializing DistilBertModel: ['vocab_projector.bias', 'vocab_projector.weight', 'vocab_transform.bias', 'vocab_layer_norm.bias', 'vocab_layer_norm.weight', 'vocab_transform.weight']\n",
            "- This IS expected if you are initializing DistilBertModel from the checkpoint of a model trained on another task or with another architecture (e.g. initializing a BertForSequenceClassification model from a BertForPreTraining model).\n",
            "- This IS NOT expected if you are initializing DistilBertModel from the checkpoint of a model that you expect to be exactly identical (initializing a BertForSequenceClassification model from a BertForSequenceClassification model).\n"
          ]
        },
        {
          "output_type": "stream",
          "name": "stdout",
          "text": [
            "Pet_Supplies_5 vs Kindle_Store_5\n",
            "Source domain:  0.40697673\n",
            "Source class:  0.8446089\n",
            "Target domain:  0.2631579\n",
            "Target class:  0.82494277\n",
            "[[{'Source Domain': 0.4281184, 'Source Class': 0.8562368, 'Target Domain': 0.201373, 'Target Class': 0.84324944}, {'Source Domain': 0.41120508, 'Source Class': 0.8435518, 'Target Domain': 0.29290617, 'Target Class': 0.8089245}, {'Source Domain': 0.6215645, 'Source Class': 0.832981, 'Target Domain': 0.18764302, 'Target Class': 0.79290617}, {'Source Domain': 0.4820296, 'Source Class': 0.82241017, 'Target Domain': 0.26773456, 'Target Class': 0.812357}, {'Source Domain': 0.41754758, 'Source Class': 0.8498943, 'Target Domain': 0.23455377, 'Target Class': 0.7894737}, {'Source Domain': 0.3245243, 'Source Class': 0.7928118, 'Target Domain': 0.30549198, 'Target Class': 0.791762}], [{'Source Domain': 0.38160676, 'Source Class': 0.8308668, 'Target Domain': 0.3249428, 'Target Class': 0.7768879}, {'Source Domain': 0.38266385, 'Source Class': 0.8625793, 'Target Domain': 0.28146452, 'Target Class': 0.8306636}, {'Source Domain': 0.52114165, 'Source Class': 0.82346725, 'Target Domain': 0.21510297, 'Target Class': 0.8215103}, {'Source Domain': 0.2230444, 'Source Class': 0.85200846, 'Target Domain': 0.43020594, 'Target Class': 0.8180778}, {'Source Domain': 0.43763214, 'Source Class': 0.8477801, 'Target Domain': 0.29633868, 'Target Class': 0.82608694}, {'Source Domain': 0.48942918, 'Source Class': 0.81289643, 'Target Domain': 0.28375286, 'Target Class': 0.7860412}], [{'Source Domain': 0.40697673, 'Source Class': 0.8446089, 'Target Domain': 0.2631579, 'Target Class': 0.82494277}, {}, {}, {}, {}, {}], [{}, {}, {}, {}, {}, {}], [{}, {}, {}, {}, {}, {}], [{}, {}, {}, {}, {}, {}]]\n"
          ]
        },
        {
          "output_type": "stream",
          "name": "stderr",
          "text": [
            "Some weights of the model checkpoint at distilbert-base-uncased were not used when initializing DistilBertModel: ['vocab_projector.bias', 'vocab_projector.weight', 'vocab_transform.bias', 'vocab_layer_norm.bias', 'vocab_layer_norm.weight', 'vocab_transform.weight']\n",
            "- This IS expected if you are initializing DistilBertModel from the checkpoint of a model trained on another task or with another architecture (e.g. initializing a BertForSequenceClassification model from a BertForPreTraining model).\n",
            "- This IS NOT expected if you are initializing DistilBertModel from the checkpoint of a model that you expect to be exactly identical (initializing a BertForSequenceClassification model from a BertForSequenceClassification model).\n"
          ]
        },
        {
          "output_type": "stream",
          "name": "stdout",
          "text": [
            "Pet_Supplies_5 vs Books_5\n",
            "Source domain:  0.16384777\n",
            "Source class:  0.82346725\n",
            "Target domain:  0.5011442\n",
            "Target class:  0.75171626\n",
            "[[{'Source Domain': 0.4281184, 'Source Class': 0.8562368, 'Target Domain': 0.201373, 'Target Class': 0.84324944}, {'Source Domain': 0.41120508, 'Source Class': 0.8435518, 'Target Domain': 0.29290617, 'Target Class': 0.8089245}, {'Source Domain': 0.6215645, 'Source Class': 0.832981, 'Target Domain': 0.18764302, 'Target Class': 0.79290617}, {'Source Domain': 0.4820296, 'Source Class': 0.82241017, 'Target Domain': 0.26773456, 'Target Class': 0.812357}, {'Source Domain': 0.41754758, 'Source Class': 0.8498943, 'Target Domain': 0.23455377, 'Target Class': 0.7894737}, {'Source Domain': 0.3245243, 'Source Class': 0.7928118, 'Target Domain': 0.30549198, 'Target Class': 0.791762}], [{'Source Domain': 0.38160676, 'Source Class': 0.8308668, 'Target Domain': 0.3249428, 'Target Class': 0.7768879}, {'Source Domain': 0.38266385, 'Source Class': 0.8625793, 'Target Domain': 0.28146452, 'Target Class': 0.8306636}, {'Source Domain': 0.52114165, 'Source Class': 0.82346725, 'Target Domain': 0.21510297, 'Target Class': 0.8215103}, {'Source Domain': 0.2230444, 'Source Class': 0.85200846, 'Target Domain': 0.43020594, 'Target Class': 0.8180778}, {'Source Domain': 0.43763214, 'Source Class': 0.8477801, 'Target Domain': 0.29633868, 'Target Class': 0.82608694}, {'Source Domain': 0.48942918, 'Source Class': 0.81289643, 'Target Domain': 0.28375286, 'Target Class': 0.7860412}], [{'Source Domain': 0.40697673, 'Source Class': 0.8446089, 'Target Domain': 0.2631579, 'Target Class': 0.82494277}, {'Source Domain': 0.16384777, 'Source Class': 0.82346725, 'Target Domain': 0.5011442, 'Target Class': 0.75171626}, {}, {}, {}, {}], [{}, {}, {}, {}, {}, {}], [{}, {}, {}, {}, {}, {}], [{}, {}, {}, {}, {}, {}]]\n"
          ]
        },
        {
          "output_type": "stream",
          "name": "stderr",
          "text": [
            "Some weights of the model checkpoint at distilbert-base-uncased were not used when initializing DistilBertModel: ['vocab_projector.bias', 'vocab_projector.weight', 'vocab_transform.bias', 'vocab_layer_norm.bias', 'vocab_layer_norm.weight', 'vocab_transform.weight']\n",
            "- This IS expected if you are initializing DistilBertModel from the checkpoint of a model trained on another task or with another architecture (e.g. initializing a BertForSequenceClassification model from a BertForPreTraining model).\n",
            "- This IS NOT expected if you are initializing DistilBertModel from the checkpoint of a model that you expect to be exactly identical (initializing a BertForSequenceClassification model from a BertForSequenceClassification model).\n"
          ]
        },
        {
          "output_type": "stream",
          "name": "stdout",
          "text": [
            "Pet_Supplies_5 vs Pet_Supplies_5\n",
            "Source domain:  0.5169133\n",
            "Source class:  0.8498943\n",
            "Target domain:  0.24942791\n",
            "Target class:  0.8089245\n",
            "[[{'Source Domain': 0.4281184, 'Source Class': 0.8562368, 'Target Domain': 0.201373, 'Target Class': 0.84324944}, {'Source Domain': 0.41120508, 'Source Class': 0.8435518, 'Target Domain': 0.29290617, 'Target Class': 0.8089245}, {'Source Domain': 0.6215645, 'Source Class': 0.832981, 'Target Domain': 0.18764302, 'Target Class': 0.79290617}, {'Source Domain': 0.4820296, 'Source Class': 0.82241017, 'Target Domain': 0.26773456, 'Target Class': 0.812357}, {'Source Domain': 0.41754758, 'Source Class': 0.8498943, 'Target Domain': 0.23455377, 'Target Class': 0.7894737}, {'Source Domain': 0.3245243, 'Source Class': 0.7928118, 'Target Domain': 0.30549198, 'Target Class': 0.791762}], [{'Source Domain': 0.38160676, 'Source Class': 0.8308668, 'Target Domain': 0.3249428, 'Target Class': 0.7768879}, {'Source Domain': 0.38266385, 'Source Class': 0.8625793, 'Target Domain': 0.28146452, 'Target Class': 0.8306636}, {'Source Domain': 0.52114165, 'Source Class': 0.82346725, 'Target Domain': 0.21510297, 'Target Class': 0.8215103}, {'Source Domain': 0.2230444, 'Source Class': 0.85200846, 'Target Domain': 0.43020594, 'Target Class': 0.8180778}, {'Source Domain': 0.43763214, 'Source Class': 0.8477801, 'Target Domain': 0.29633868, 'Target Class': 0.82608694}, {'Source Domain': 0.48942918, 'Source Class': 0.81289643, 'Target Domain': 0.28375286, 'Target Class': 0.7860412}], [{'Source Domain': 0.40697673, 'Source Class': 0.8446089, 'Target Domain': 0.2631579, 'Target Class': 0.82494277}, {'Source Domain': 0.16384777, 'Source Class': 0.82346725, 'Target Domain': 0.5011442, 'Target Class': 0.75171626}, {'Source Domain': 0.5169133, 'Source Class': 0.8498943, 'Target Domain': 0.24942791, 'Target Class': 0.8089245}, {}, {}, {}], [{}, {}, {}, {}, {}, {}], [{}, {}, {}, {}, {}, {}], [{}, {}, {}, {}, {}, {}]]\n"
          ]
        },
        {
          "output_type": "stream",
          "name": "stderr",
          "text": [
            "Some weights of the model checkpoint at distilbert-base-uncased were not used when initializing DistilBertModel: ['vocab_projector.bias', 'vocab_projector.weight', 'vocab_transform.bias', 'vocab_layer_norm.bias', 'vocab_layer_norm.weight', 'vocab_transform.weight']\n",
            "- This IS expected if you are initializing DistilBertModel from the checkpoint of a model trained on another task or with another architecture (e.g. initializing a BertForSequenceClassification model from a BertForPreTraining model).\n",
            "- This IS NOT expected if you are initializing DistilBertModel from the checkpoint of a model that you expect to be exactly identical (initializing a BertForSequenceClassification model from a BertForSequenceClassification model).\n"
          ]
        },
        {
          "output_type": "stream",
          "name": "stdout",
          "text": [
            "Pet_Supplies_5 vs Home_and_Kitchen_5\n",
            "Source domain:  0.4640592\n",
            "Source class:  0.85412264\n",
            "Target domain:  0.2757437\n",
            "Target class:  0.81121284\n",
            "[[{'Source Domain': 0.4281184, 'Source Class': 0.8562368, 'Target Domain': 0.201373, 'Target Class': 0.84324944}, {'Source Domain': 0.41120508, 'Source Class': 0.8435518, 'Target Domain': 0.29290617, 'Target Class': 0.8089245}, {'Source Domain': 0.6215645, 'Source Class': 0.832981, 'Target Domain': 0.18764302, 'Target Class': 0.79290617}, {'Source Domain': 0.4820296, 'Source Class': 0.82241017, 'Target Domain': 0.26773456, 'Target Class': 0.812357}, {'Source Domain': 0.41754758, 'Source Class': 0.8498943, 'Target Domain': 0.23455377, 'Target Class': 0.7894737}, {'Source Domain': 0.3245243, 'Source Class': 0.7928118, 'Target Domain': 0.30549198, 'Target Class': 0.791762}], [{'Source Domain': 0.38160676, 'Source Class': 0.8308668, 'Target Domain': 0.3249428, 'Target Class': 0.7768879}, {'Source Domain': 0.38266385, 'Source Class': 0.8625793, 'Target Domain': 0.28146452, 'Target Class': 0.8306636}, {'Source Domain': 0.52114165, 'Source Class': 0.82346725, 'Target Domain': 0.21510297, 'Target Class': 0.8215103}, {'Source Domain': 0.2230444, 'Source Class': 0.85200846, 'Target Domain': 0.43020594, 'Target Class': 0.8180778}, {'Source Domain': 0.43763214, 'Source Class': 0.8477801, 'Target Domain': 0.29633868, 'Target Class': 0.82608694}, {'Source Domain': 0.48942918, 'Source Class': 0.81289643, 'Target Domain': 0.28375286, 'Target Class': 0.7860412}], [{'Source Domain': 0.40697673, 'Source Class': 0.8446089, 'Target Domain': 0.2631579, 'Target Class': 0.82494277}, {'Source Domain': 0.16384777, 'Source Class': 0.82346725, 'Target Domain': 0.5011442, 'Target Class': 0.75171626}, {'Source Domain': 0.5169133, 'Source Class': 0.8498943, 'Target Domain': 0.24942791, 'Target Class': 0.8089245}, {'Source Domain': 0.4640592, 'Source Class': 0.85412264, 'Target Domain': 0.2757437, 'Target Class': 0.81121284}, {}, {}], [{}, {}, {}, {}, {}, {}], [{}, {}, {}, {}, {}, {}], [{}, {}, {}, {}, {}, {}]]\n"
          ]
        },
        {
          "output_type": "stream",
          "name": "stderr",
          "text": [
            "Some weights of the model checkpoint at distilbert-base-uncased were not used when initializing DistilBertModel: ['vocab_projector.bias', 'vocab_projector.weight', 'vocab_transform.bias', 'vocab_layer_norm.bias', 'vocab_layer_norm.weight', 'vocab_transform.weight']\n",
            "- This IS expected if you are initializing DistilBertModel from the checkpoint of a model trained on another task or with another architecture (e.g. initializing a BertForSequenceClassification model from a BertForPreTraining model).\n",
            "- This IS NOT expected if you are initializing DistilBertModel from the checkpoint of a model that you expect to be exactly identical (initializing a BertForSequenceClassification model from a BertForSequenceClassification model).\n"
          ]
        },
        {
          "output_type": "stream",
          "name": "stdout",
          "text": [
            "Pet_Supplies_5 vs Sports_and_Outdoors_5\n",
            "Source domain:  0.28118393\n",
            "Source class:  0.85306555\n",
            "Target domain:  0.36498857\n",
            "Target class:  0.8215103\n",
            "[[{'Source Domain': 0.4281184, 'Source Class': 0.8562368, 'Target Domain': 0.201373, 'Target Class': 0.84324944}, {'Source Domain': 0.41120508, 'Source Class': 0.8435518, 'Target Domain': 0.29290617, 'Target Class': 0.8089245}, {'Source Domain': 0.6215645, 'Source Class': 0.832981, 'Target Domain': 0.18764302, 'Target Class': 0.79290617}, {'Source Domain': 0.4820296, 'Source Class': 0.82241017, 'Target Domain': 0.26773456, 'Target Class': 0.812357}, {'Source Domain': 0.41754758, 'Source Class': 0.8498943, 'Target Domain': 0.23455377, 'Target Class': 0.7894737}, {'Source Domain': 0.3245243, 'Source Class': 0.7928118, 'Target Domain': 0.30549198, 'Target Class': 0.791762}], [{'Source Domain': 0.38160676, 'Source Class': 0.8308668, 'Target Domain': 0.3249428, 'Target Class': 0.7768879}, {'Source Domain': 0.38266385, 'Source Class': 0.8625793, 'Target Domain': 0.28146452, 'Target Class': 0.8306636}, {'Source Domain': 0.52114165, 'Source Class': 0.82346725, 'Target Domain': 0.21510297, 'Target Class': 0.8215103}, {'Source Domain': 0.2230444, 'Source Class': 0.85200846, 'Target Domain': 0.43020594, 'Target Class': 0.8180778}, {'Source Domain': 0.43763214, 'Source Class': 0.8477801, 'Target Domain': 0.29633868, 'Target Class': 0.82608694}, {'Source Domain': 0.48942918, 'Source Class': 0.81289643, 'Target Domain': 0.28375286, 'Target Class': 0.7860412}], [{'Source Domain': 0.40697673, 'Source Class': 0.8446089, 'Target Domain': 0.2631579, 'Target Class': 0.82494277}, {'Source Domain': 0.16384777, 'Source Class': 0.82346725, 'Target Domain': 0.5011442, 'Target Class': 0.75171626}, {'Source Domain': 0.5169133, 'Source Class': 0.8498943, 'Target Domain': 0.24942791, 'Target Class': 0.8089245}, {'Source Domain': 0.4640592, 'Source Class': 0.85412264, 'Target Domain': 0.2757437, 'Target Class': 0.81121284}, {'Source Domain': 0.28118393, 'Source Class': 0.85306555, 'Target Domain': 0.36498857, 'Target Class': 0.8215103}, {}], [{}, {}, {}, {}, {}, {}], [{}, {}, {}, {}, {}, {}], [{}, {}, {}, {}, {}, {}]]\n"
          ]
        },
        {
          "output_type": "stream",
          "name": "stderr",
          "text": [
            "Some weights of the model checkpoint at distilbert-base-uncased were not used when initializing DistilBertModel: ['vocab_projector.bias', 'vocab_projector.weight', 'vocab_transform.bias', 'vocab_layer_norm.bias', 'vocab_layer_norm.weight', 'vocab_transform.weight']\n",
            "- This IS expected if you are initializing DistilBertModel from the checkpoint of a model trained on another task or with another architecture (e.g. initializing a BertForSequenceClassification model from a BertForPreTraining model).\n",
            "- This IS NOT expected if you are initializing DistilBertModel from the checkpoint of a model that you expect to be exactly identical (initializing a BertForSequenceClassification model from a BertForSequenceClassification model).\n"
          ]
        },
        {
          "output_type": "stream",
          "name": "stdout",
          "text": [
            "Pet_Supplies_5 vs Electronics_5\n",
            "Source domain:  0.28118393\n",
            "Source class:  0.8636364\n",
            "Target domain:  0.34897026\n",
            "Target class:  0.8215103\n",
            "[[{'Source Domain': 0.4281184, 'Source Class': 0.8562368, 'Target Domain': 0.201373, 'Target Class': 0.84324944}, {'Source Domain': 0.41120508, 'Source Class': 0.8435518, 'Target Domain': 0.29290617, 'Target Class': 0.8089245}, {'Source Domain': 0.6215645, 'Source Class': 0.832981, 'Target Domain': 0.18764302, 'Target Class': 0.79290617}, {'Source Domain': 0.4820296, 'Source Class': 0.82241017, 'Target Domain': 0.26773456, 'Target Class': 0.812357}, {'Source Domain': 0.41754758, 'Source Class': 0.8498943, 'Target Domain': 0.23455377, 'Target Class': 0.7894737}, {'Source Domain': 0.3245243, 'Source Class': 0.7928118, 'Target Domain': 0.30549198, 'Target Class': 0.791762}], [{'Source Domain': 0.38160676, 'Source Class': 0.8308668, 'Target Domain': 0.3249428, 'Target Class': 0.7768879}, {'Source Domain': 0.38266385, 'Source Class': 0.8625793, 'Target Domain': 0.28146452, 'Target Class': 0.8306636}, {'Source Domain': 0.52114165, 'Source Class': 0.82346725, 'Target Domain': 0.21510297, 'Target Class': 0.8215103}, {'Source Domain': 0.2230444, 'Source Class': 0.85200846, 'Target Domain': 0.43020594, 'Target Class': 0.8180778}, {'Source Domain': 0.43763214, 'Source Class': 0.8477801, 'Target Domain': 0.29633868, 'Target Class': 0.82608694}, {'Source Domain': 0.48942918, 'Source Class': 0.81289643, 'Target Domain': 0.28375286, 'Target Class': 0.7860412}], [{'Source Domain': 0.40697673, 'Source Class': 0.8446089, 'Target Domain': 0.2631579, 'Target Class': 0.82494277}, {'Source Domain': 0.16384777, 'Source Class': 0.82346725, 'Target Domain': 0.5011442, 'Target Class': 0.75171626}, {'Source Domain': 0.5169133, 'Source Class': 0.8498943, 'Target Domain': 0.24942791, 'Target Class': 0.8089245}, {'Source Domain': 0.4640592, 'Source Class': 0.85412264, 'Target Domain': 0.2757437, 'Target Class': 0.81121284}, {'Source Domain': 0.28118393, 'Source Class': 0.85306555, 'Target Domain': 0.36498857, 'Target Class': 0.8215103}, {'Source Domain': 0.28118393, 'Source Class': 0.8636364, 'Target Domain': 0.34897026, 'Target Class': 0.8215103}], [{}, {}, {}, {}, {}, {}], [{}, {}, {}, {}, {}, {}], [{}, {}, {}, {}, {}, {}]]\n"
          ]
        },
        {
          "output_type": "stream",
          "name": "stderr",
          "text": [
            "Some weights of the model checkpoint at distilbert-base-uncased were not used when initializing DistilBertModel: ['vocab_projector.bias', 'vocab_projector.weight', 'vocab_transform.bias', 'vocab_layer_norm.bias', 'vocab_layer_norm.weight', 'vocab_transform.weight']\n",
            "- This IS expected if you are initializing DistilBertModel from the checkpoint of a model trained on another task or with another architecture (e.g. initializing a BertForSequenceClassification model from a BertForPreTraining model).\n",
            "- This IS NOT expected if you are initializing DistilBertModel from the checkpoint of a model that you expect to be exactly identical (initializing a BertForSequenceClassification model from a BertForSequenceClassification model).\n"
          ]
        },
        {
          "output_type": "stream",
          "name": "stdout",
          "text": [
            "Home_and_Kitchen_5 vs Kindle_Store_5\n",
            "Source domain:  0.29386893\n",
            "Source class:  0.7642706\n",
            "Target domain:  0.32379863\n",
            "Target class:  0.72540045\n",
            "[[{'Source Domain': 0.4281184, 'Source Class': 0.8562368, 'Target Domain': 0.201373, 'Target Class': 0.84324944}, {'Source Domain': 0.41120508, 'Source Class': 0.8435518, 'Target Domain': 0.29290617, 'Target Class': 0.8089245}, {'Source Domain': 0.6215645, 'Source Class': 0.832981, 'Target Domain': 0.18764302, 'Target Class': 0.79290617}, {'Source Domain': 0.4820296, 'Source Class': 0.82241017, 'Target Domain': 0.26773456, 'Target Class': 0.812357}, {'Source Domain': 0.41754758, 'Source Class': 0.8498943, 'Target Domain': 0.23455377, 'Target Class': 0.7894737}, {'Source Domain': 0.3245243, 'Source Class': 0.7928118, 'Target Domain': 0.30549198, 'Target Class': 0.791762}], [{'Source Domain': 0.38160676, 'Source Class': 0.8308668, 'Target Domain': 0.3249428, 'Target Class': 0.7768879}, {'Source Domain': 0.38266385, 'Source Class': 0.8625793, 'Target Domain': 0.28146452, 'Target Class': 0.8306636}, {'Source Domain': 0.52114165, 'Source Class': 0.82346725, 'Target Domain': 0.21510297, 'Target Class': 0.8215103}, {'Source Domain': 0.2230444, 'Source Class': 0.85200846, 'Target Domain': 0.43020594, 'Target Class': 0.8180778}, {'Source Domain': 0.43763214, 'Source Class': 0.8477801, 'Target Domain': 0.29633868, 'Target Class': 0.82608694}, {'Source Domain': 0.48942918, 'Source Class': 0.81289643, 'Target Domain': 0.28375286, 'Target Class': 0.7860412}], [{'Source Domain': 0.40697673, 'Source Class': 0.8446089, 'Target Domain': 0.2631579, 'Target Class': 0.82494277}, {'Source Domain': 0.16384777, 'Source Class': 0.82346725, 'Target Domain': 0.5011442, 'Target Class': 0.75171626}, {'Source Domain': 0.5169133, 'Source Class': 0.8498943, 'Target Domain': 0.24942791, 'Target Class': 0.8089245}, {'Source Domain': 0.4640592, 'Source Class': 0.85412264, 'Target Domain': 0.2757437, 'Target Class': 0.81121284}, {'Source Domain': 0.28118393, 'Source Class': 0.85306555, 'Target Domain': 0.36498857, 'Target Class': 0.8215103}, {'Source Domain': 0.28118393, 'Source Class': 0.8636364, 'Target Domain': 0.34897026, 'Target Class': 0.8215103}], [{'Source Domain': 0.29386893, 'Source Class': 0.7642706, 'Target Domain': 0.32379863, 'Target Class': 0.72540045}, {}, {}, {}, {}, {}], [{}, {}, {}, {}, {}, {}], [{}, {}, {}, {}, {}, {}]]\n"
          ]
        },
        {
          "output_type": "stream",
          "name": "stderr",
          "text": [
            "Some weights of the model checkpoint at distilbert-base-uncased were not used when initializing DistilBertModel: ['vocab_projector.bias', 'vocab_projector.weight', 'vocab_transform.bias', 'vocab_layer_norm.bias', 'vocab_layer_norm.weight', 'vocab_transform.weight']\n",
            "- This IS expected if you are initializing DistilBertModel from the checkpoint of a model trained on another task or with another architecture (e.g. initializing a BertForSequenceClassification model from a BertForPreTraining model).\n",
            "- This IS NOT expected if you are initializing DistilBertModel from the checkpoint of a model that you expect to be exactly identical (initializing a BertForSequenceClassification model from a BertForSequenceClassification model).\n"
          ]
        },
        {
          "output_type": "stream",
          "name": "stdout",
          "text": [
            "Home_and_Kitchen_5 vs Books_5\n",
            "Source domain:  0.38900635\n",
            "Source class:  0.84143764\n",
            "Target domain:  0.2631579\n",
            "Target class:  0.8180778\n",
            "[[{'Source Domain': 0.4281184, 'Source Class': 0.8562368, 'Target Domain': 0.201373, 'Target Class': 0.84324944}, {'Source Domain': 0.41120508, 'Source Class': 0.8435518, 'Target Domain': 0.29290617, 'Target Class': 0.8089245}, {'Source Domain': 0.6215645, 'Source Class': 0.832981, 'Target Domain': 0.18764302, 'Target Class': 0.79290617}, {'Source Domain': 0.4820296, 'Source Class': 0.82241017, 'Target Domain': 0.26773456, 'Target Class': 0.812357}, {'Source Domain': 0.41754758, 'Source Class': 0.8498943, 'Target Domain': 0.23455377, 'Target Class': 0.7894737}, {'Source Domain': 0.3245243, 'Source Class': 0.7928118, 'Target Domain': 0.30549198, 'Target Class': 0.791762}], [{'Source Domain': 0.38160676, 'Source Class': 0.8308668, 'Target Domain': 0.3249428, 'Target Class': 0.7768879}, {'Source Domain': 0.38266385, 'Source Class': 0.8625793, 'Target Domain': 0.28146452, 'Target Class': 0.8306636}, {'Source Domain': 0.52114165, 'Source Class': 0.82346725, 'Target Domain': 0.21510297, 'Target Class': 0.8215103}, {'Source Domain': 0.2230444, 'Source Class': 0.85200846, 'Target Domain': 0.43020594, 'Target Class': 0.8180778}, {'Source Domain': 0.43763214, 'Source Class': 0.8477801, 'Target Domain': 0.29633868, 'Target Class': 0.82608694}, {'Source Domain': 0.48942918, 'Source Class': 0.81289643, 'Target Domain': 0.28375286, 'Target Class': 0.7860412}], [{'Source Domain': 0.40697673, 'Source Class': 0.8446089, 'Target Domain': 0.2631579, 'Target Class': 0.82494277}, {'Source Domain': 0.16384777, 'Source Class': 0.82346725, 'Target Domain': 0.5011442, 'Target Class': 0.75171626}, {'Source Domain': 0.5169133, 'Source Class': 0.8498943, 'Target Domain': 0.24942791, 'Target Class': 0.8089245}, {'Source Domain': 0.4640592, 'Source Class': 0.85412264, 'Target Domain': 0.2757437, 'Target Class': 0.81121284}, {'Source Domain': 0.28118393, 'Source Class': 0.85306555, 'Target Domain': 0.36498857, 'Target Class': 0.8215103}, {'Source Domain': 0.28118393, 'Source Class': 0.8636364, 'Target Domain': 0.34897026, 'Target Class': 0.8215103}], [{'Source Domain': 0.29386893, 'Source Class': 0.7642706, 'Target Domain': 0.32379863, 'Target Class': 0.72540045}, {'Source Domain': 0.38900635, 'Source Class': 0.84143764, 'Target Domain': 0.2631579, 'Target Class': 0.8180778}, {}, {}, {}, {}], [{}, {}, {}, {}, {}, {}], [{}, {}, {}, {}, {}, {}]]\n"
          ]
        },
        {
          "output_type": "stream",
          "name": "stderr",
          "text": [
            "Some weights of the model checkpoint at distilbert-base-uncased were not used when initializing DistilBertModel: ['vocab_projector.bias', 'vocab_projector.weight', 'vocab_transform.bias', 'vocab_layer_norm.bias', 'vocab_layer_norm.weight', 'vocab_transform.weight']\n",
            "- This IS expected if you are initializing DistilBertModel from the checkpoint of a model trained on another task or with another architecture (e.g. initializing a BertForSequenceClassification model from a BertForPreTraining model).\n",
            "- This IS NOT expected if you are initializing DistilBertModel from the checkpoint of a model that you expect to be exactly identical (initializing a BertForSequenceClassification model from a BertForSequenceClassification model).\n"
          ]
        },
        {
          "output_type": "stream",
          "name": "stdout",
          "text": [
            "Home_and_Kitchen_5 vs Pet_Supplies_5\n",
            "Source domain:  0.45983088\n",
            "Source class:  0.86997885\n",
            "Target domain:  0.24942791\n",
            "Target class:  0.83867276\n",
            "[[{'Source Domain': 0.4281184, 'Source Class': 0.8562368, 'Target Domain': 0.201373, 'Target Class': 0.84324944}, {'Source Domain': 0.41120508, 'Source Class': 0.8435518, 'Target Domain': 0.29290617, 'Target Class': 0.8089245}, {'Source Domain': 0.6215645, 'Source Class': 0.832981, 'Target Domain': 0.18764302, 'Target Class': 0.79290617}, {'Source Domain': 0.4820296, 'Source Class': 0.82241017, 'Target Domain': 0.26773456, 'Target Class': 0.812357}, {'Source Domain': 0.41754758, 'Source Class': 0.8498943, 'Target Domain': 0.23455377, 'Target Class': 0.7894737}, {'Source Domain': 0.3245243, 'Source Class': 0.7928118, 'Target Domain': 0.30549198, 'Target Class': 0.791762}], [{'Source Domain': 0.38160676, 'Source Class': 0.8308668, 'Target Domain': 0.3249428, 'Target Class': 0.7768879}, {'Source Domain': 0.38266385, 'Source Class': 0.8625793, 'Target Domain': 0.28146452, 'Target Class': 0.8306636}, {'Source Domain': 0.52114165, 'Source Class': 0.82346725, 'Target Domain': 0.21510297, 'Target Class': 0.8215103}, {'Source Domain': 0.2230444, 'Source Class': 0.85200846, 'Target Domain': 0.43020594, 'Target Class': 0.8180778}, {'Source Domain': 0.43763214, 'Source Class': 0.8477801, 'Target Domain': 0.29633868, 'Target Class': 0.82608694}, {'Source Domain': 0.48942918, 'Source Class': 0.81289643, 'Target Domain': 0.28375286, 'Target Class': 0.7860412}], [{'Source Domain': 0.40697673, 'Source Class': 0.8446089, 'Target Domain': 0.2631579, 'Target Class': 0.82494277}, {'Source Domain': 0.16384777, 'Source Class': 0.82346725, 'Target Domain': 0.5011442, 'Target Class': 0.75171626}, {'Source Domain': 0.5169133, 'Source Class': 0.8498943, 'Target Domain': 0.24942791, 'Target Class': 0.8089245}, {'Source Domain': 0.4640592, 'Source Class': 0.85412264, 'Target Domain': 0.2757437, 'Target Class': 0.81121284}, {'Source Domain': 0.28118393, 'Source Class': 0.85306555, 'Target Domain': 0.36498857, 'Target Class': 0.8215103}, {'Source Domain': 0.28118393, 'Source Class': 0.8636364, 'Target Domain': 0.34897026, 'Target Class': 0.8215103}], [{'Source Domain': 0.29386893, 'Source Class': 0.7642706, 'Target Domain': 0.32379863, 'Target Class': 0.72540045}, {'Source Domain': 0.38900635, 'Source Class': 0.84143764, 'Target Domain': 0.2631579, 'Target Class': 0.8180778}, {'Source Domain': 0.45983088, 'Source Class': 0.86997885, 'Target Domain': 0.24942791, 'Target Class': 0.83867276}, {}, {}, {}], [{}, {}, {}, {}, {}, {}], [{}, {}, {}, {}, {}, {}]]\n"
          ]
        },
        {
          "output_type": "stream",
          "name": "stderr",
          "text": [
            "Some weights of the model checkpoint at distilbert-base-uncased were not used when initializing DistilBertModel: ['vocab_projector.bias', 'vocab_projector.weight', 'vocab_transform.bias', 'vocab_layer_norm.bias', 'vocab_layer_norm.weight', 'vocab_transform.weight']\n",
            "- This IS expected if you are initializing DistilBertModel from the checkpoint of a model trained on another task or with another architecture (e.g. initializing a BertForSequenceClassification model from a BertForPreTraining model).\n",
            "- This IS NOT expected if you are initializing DistilBertModel from the checkpoint of a model that you expect to be exactly identical (initializing a BertForSequenceClassification model from a BertForSequenceClassification model).\n"
          ]
        },
        {
          "output_type": "stream",
          "name": "stdout",
          "text": [
            "Home_and_Kitchen_5 vs Home_and_Kitchen_5\n",
            "Source domain:  0.44820297\n",
            "Source class:  0.8255814\n",
            "Target domain:  0.2505721\n",
            "Target class:  0.79290617\n",
            "[[{'Source Domain': 0.4281184, 'Source Class': 0.8562368, 'Target Domain': 0.201373, 'Target Class': 0.84324944}, {'Source Domain': 0.41120508, 'Source Class': 0.8435518, 'Target Domain': 0.29290617, 'Target Class': 0.8089245}, {'Source Domain': 0.6215645, 'Source Class': 0.832981, 'Target Domain': 0.18764302, 'Target Class': 0.79290617}, {'Source Domain': 0.4820296, 'Source Class': 0.82241017, 'Target Domain': 0.26773456, 'Target Class': 0.812357}, {'Source Domain': 0.41754758, 'Source Class': 0.8498943, 'Target Domain': 0.23455377, 'Target Class': 0.7894737}, {'Source Domain': 0.3245243, 'Source Class': 0.7928118, 'Target Domain': 0.30549198, 'Target Class': 0.791762}], [{'Source Domain': 0.38160676, 'Source Class': 0.8308668, 'Target Domain': 0.3249428, 'Target Class': 0.7768879}, {'Source Domain': 0.38266385, 'Source Class': 0.8625793, 'Target Domain': 0.28146452, 'Target Class': 0.8306636}, {'Source Domain': 0.52114165, 'Source Class': 0.82346725, 'Target Domain': 0.21510297, 'Target Class': 0.8215103}, {'Source Domain': 0.2230444, 'Source Class': 0.85200846, 'Target Domain': 0.43020594, 'Target Class': 0.8180778}, {'Source Domain': 0.43763214, 'Source Class': 0.8477801, 'Target Domain': 0.29633868, 'Target Class': 0.82608694}, {'Source Domain': 0.48942918, 'Source Class': 0.81289643, 'Target Domain': 0.28375286, 'Target Class': 0.7860412}], [{'Source Domain': 0.40697673, 'Source Class': 0.8446089, 'Target Domain': 0.2631579, 'Target Class': 0.82494277}, {'Source Domain': 0.16384777, 'Source Class': 0.82346725, 'Target Domain': 0.5011442, 'Target Class': 0.75171626}, {'Source Domain': 0.5169133, 'Source Class': 0.8498943, 'Target Domain': 0.24942791, 'Target Class': 0.8089245}, {'Source Domain': 0.4640592, 'Source Class': 0.85412264, 'Target Domain': 0.2757437, 'Target Class': 0.81121284}, {'Source Domain': 0.28118393, 'Source Class': 0.85306555, 'Target Domain': 0.36498857, 'Target Class': 0.8215103}, {'Source Domain': 0.28118393, 'Source Class': 0.8636364, 'Target Domain': 0.34897026, 'Target Class': 0.8215103}], [{'Source Domain': 0.29386893, 'Source Class': 0.7642706, 'Target Domain': 0.32379863, 'Target Class': 0.72540045}, {'Source Domain': 0.38900635, 'Source Class': 0.84143764, 'Target Domain': 0.2631579, 'Target Class': 0.8180778}, {'Source Domain': 0.45983088, 'Source Class': 0.86997885, 'Target Domain': 0.24942791, 'Target Class': 0.83867276}, {'Source Domain': 0.44820297, 'Source Class': 0.8255814, 'Target Domain': 0.2505721, 'Target Class': 0.79290617}, {}, {}], [{}, {}, {}, {}, {}, {}], [{}, {}, {}, {}, {}, {}]]\n"
          ]
        },
        {
          "output_type": "stream",
          "name": "stderr",
          "text": [
            "Some weights of the model checkpoint at distilbert-base-uncased were not used when initializing DistilBertModel: ['vocab_projector.bias', 'vocab_projector.weight', 'vocab_transform.bias', 'vocab_layer_norm.bias', 'vocab_layer_norm.weight', 'vocab_transform.weight']\n",
            "- This IS expected if you are initializing DistilBertModel from the checkpoint of a model trained on another task or with another architecture (e.g. initializing a BertForSequenceClassification model from a BertForPreTraining model).\n",
            "- This IS NOT expected if you are initializing DistilBertModel from the checkpoint of a model that you expect to be exactly identical (initializing a BertForSequenceClassification model from a BertForSequenceClassification model).\n"
          ]
        },
        {
          "output_type": "stream",
          "name": "stdout",
          "text": [
            "Home_and_Kitchen_5 vs Sports_and_Outdoors_5\n",
            "Source domain:  0.6215645\n",
            "Source class:  0.8086681\n",
            "Target domain:  0.14759725\n",
            "Target class:  0.7276888\n",
            "[[{'Source Domain': 0.4281184, 'Source Class': 0.8562368, 'Target Domain': 0.201373, 'Target Class': 0.84324944}, {'Source Domain': 0.41120508, 'Source Class': 0.8435518, 'Target Domain': 0.29290617, 'Target Class': 0.8089245}, {'Source Domain': 0.6215645, 'Source Class': 0.832981, 'Target Domain': 0.18764302, 'Target Class': 0.79290617}, {'Source Domain': 0.4820296, 'Source Class': 0.82241017, 'Target Domain': 0.26773456, 'Target Class': 0.812357}, {'Source Domain': 0.41754758, 'Source Class': 0.8498943, 'Target Domain': 0.23455377, 'Target Class': 0.7894737}, {'Source Domain': 0.3245243, 'Source Class': 0.7928118, 'Target Domain': 0.30549198, 'Target Class': 0.791762}], [{'Source Domain': 0.38160676, 'Source Class': 0.8308668, 'Target Domain': 0.3249428, 'Target Class': 0.7768879}, {'Source Domain': 0.38266385, 'Source Class': 0.8625793, 'Target Domain': 0.28146452, 'Target Class': 0.8306636}, {'Source Domain': 0.52114165, 'Source Class': 0.82346725, 'Target Domain': 0.21510297, 'Target Class': 0.8215103}, {'Source Domain': 0.2230444, 'Source Class': 0.85200846, 'Target Domain': 0.43020594, 'Target Class': 0.8180778}, {'Source Domain': 0.43763214, 'Source Class': 0.8477801, 'Target Domain': 0.29633868, 'Target Class': 0.82608694}, {'Source Domain': 0.48942918, 'Source Class': 0.81289643, 'Target Domain': 0.28375286, 'Target Class': 0.7860412}], [{'Source Domain': 0.40697673, 'Source Class': 0.8446089, 'Target Domain': 0.2631579, 'Target Class': 0.82494277}, {'Source Domain': 0.16384777, 'Source Class': 0.82346725, 'Target Domain': 0.5011442, 'Target Class': 0.75171626}, {'Source Domain': 0.5169133, 'Source Class': 0.8498943, 'Target Domain': 0.24942791, 'Target Class': 0.8089245}, {'Source Domain': 0.4640592, 'Source Class': 0.85412264, 'Target Domain': 0.2757437, 'Target Class': 0.81121284}, {'Source Domain': 0.28118393, 'Source Class': 0.85306555, 'Target Domain': 0.36498857, 'Target Class': 0.8215103}, {'Source Domain': 0.28118393, 'Source Class': 0.8636364, 'Target Domain': 0.34897026, 'Target Class': 0.8215103}], [{'Source Domain': 0.29386893, 'Source Class': 0.7642706, 'Target Domain': 0.32379863, 'Target Class': 0.72540045}, {'Source Domain': 0.38900635, 'Source Class': 0.84143764, 'Target Domain': 0.2631579, 'Target Class': 0.8180778}, {'Source Domain': 0.45983088, 'Source Class': 0.86997885, 'Target Domain': 0.24942791, 'Target Class': 0.83867276}, {'Source Domain': 0.44820297, 'Source Class': 0.8255814, 'Target Domain': 0.2505721, 'Target Class': 0.79290617}, {'Source Domain': 0.6215645, 'Source Class': 0.8086681, 'Target Domain': 0.14759725, 'Target Class': 0.7276888}, {}], [{}, {}, {}, {}, {}, {}], [{}, {}, {}, {}, {}, {}]]\n"
          ]
        },
        {
          "output_type": "stream",
          "name": "stderr",
          "text": [
            "Some weights of the model checkpoint at distilbert-base-uncased were not used when initializing DistilBertModel: ['vocab_projector.bias', 'vocab_projector.weight', 'vocab_transform.bias', 'vocab_layer_norm.bias', 'vocab_layer_norm.weight', 'vocab_transform.weight']\n",
            "- This IS expected if you are initializing DistilBertModel from the checkpoint of a model trained on another task or with another architecture (e.g. initializing a BertForSequenceClassification model from a BertForPreTraining model).\n",
            "- This IS NOT expected if you are initializing DistilBertModel from the checkpoint of a model that you expect to be exactly identical (initializing a BertForSequenceClassification model from a BertForSequenceClassification model).\n"
          ]
        },
        {
          "output_type": "stream",
          "name": "stdout",
          "text": [
            "Home_and_Kitchen_5 vs Electronics_5\n",
            "Source domain:  0.30338266\n",
            "Source class:  0.85200846\n",
            "Target domain:  0.34897026\n",
            "Target class:  0.81693363\n",
            "[[{'Source Domain': 0.4281184, 'Source Class': 0.8562368, 'Target Domain': 0.201373, 'Target Class': 0.84324944}, {'Source Domain': 0.41120508, 'Source Class': 0.8435518, 'Target Domain': 0.29290617, 'Target Class': 0.8089245}, {'Source Domain': 0.6215645, 'Source Class': 0.832981, 'Target Domain': 0.18764302, 'Target Class': 0.79290617}, {'Source Domain': 0.4820296, 'Source Class': 0.82241017, 'Target Domain': 0.26773456, 'Target Class': 0.812357}, {'Source Domain': 0.41754758, 'Source Class': 0.8498943, 'Target Domain': 0.23455377, 'Target Class': 0.7894737}, {'Source Domain': 0.3245243, 'Source Class': 0.7928118, 'Target Domain': 0.30549198, 'Target Class': 0.791762}], [{'Source Domain': 0.38160676, 'Source Class': 0.8308668, 'Target Domain': 0.3249428, 'Target Class': 0.7768879}, {'Source Domain': 0.38266385, 'Source Class': 0.8625793, 'Target Domain': 0.28146452, 'Target Class': 0.8306636}, {'Source Domain': 0.52114165, 'Source Class': 0.82346725, 'Target Domain': 0.21510297, 'Target Class': 0.8215103}, {'Source Domain': 0.2230444, 'Source Class': 0.85200846, 'Target Domain': 0.43020594, 'Target Class': 0.8180778}, {'Source Domain': 0.43763214, 'Source Class': 0.8477801, 'Target Domain': 0.29633868, 'Target Class': 0.82608694}, {'Source Domain': 0.48942918, 'Source Class': 0.81289643, 'Target Domain': 0.28375286, 'Target Class': 0.7860412}], [{'Source Domain': 0.40697673, 'Source Class': 0.8446089, 'Target Domain': 0.2631579, 'Target Class': 0.82494277}, {'Source Domain': 0.16384777, 'Source Class': 0.82346725, 'Target Domain': 0.5011442, 'Target Class': 0.75171626}, {'Source Domain': 0.5169133, 'Source Class': 0.8498943, 'Target Domain': 0.24942791, 'Target Class': 0.8089245}, {'Source Domain': 0.4640592, 'Source Class': 0.85412264, 'Target Domain': 0.2757437, 'Target Class': 0.81121284}, {'Source Domain': 0.28118393, 'Source Class': 0.85306555, 'Target Domain': 0.36498857, 'Target Class': 0.8215103}, {'Source Domain': 0.28118393, 'Source Class': 0.8636364, 'Target Domain': 0.34897026, 'Target Class': 0.8215103}], [{'Source Domain': 0.29386893, 'Source Class': 0.7642706, 'Target Domain': 0.32379863, 'Target Class': 0.72540045}, {'Source Domain': 0.38900635, 'Source Class': 0.84143764, 'Target Domain': 0.2631579, 'Target Class': 0.8180778}, {'Source Domain': 0.45983088, 'Source Class': 0.86997885, 'Target Domain': 0.24942791, 'Target Class': 0.83867276}, {'Source Domain': 0.44820297, 'Source Class': 0.8255814, 'Target Domain': 0.2505721, 'Target Class': 0.79290617}, {'Source Domain': 0.6215645, 'Source Class': 0.8086681, 'Target Domain': 0.14759725, 'Target Class': 0.7276888}, {'Source Domain': 0.30338266, 'Source Class': 0.85200846, 'Target Domain': 0.34897026, 'Target Class': 0.81693363}], [{}, {}, {}, {}, {}, {}], [{}, {}, {}, {}, {}, {}]]\n"
          ]
        },
        {
          "output_type": "stream",
          "name": "stderr",
          "text": [
            "Some weights of the model checkpoint at distilbert-base-uncased were not used when initializing DistilBertModel: ['vocab_projector.bias', 'vocab_projector.weight', 'vocab_transform.bias', 'vocab_layer_norm.bias', 'vocab_layer_norm.weight', 'vocab_transform.weight']\n",
            "- This IS expected if you are initializing DistilBertModel from the checkpoint of a model trained on another task or with another architecture (e.g. initializing a BertForSequenceClassification model from a BertForPreTraining model).\n",
            "- This IS NOT expected if you are initializing DistilBertModel from the checkpoint of a model that you expect to be exactly identical (initializing a BertForSequenceClassification model from a BertForSequenceClassification model).\n"
          ]
        },
        {
          "output_type": "stream",
          "name": "stdout",
          "text": [
            "Sports_and_Outdoors_5 vs Kindle_Store_5\n",
            "Source domain:  0.3192389\n",
            "Source class:  0.84038055\n",
            "Target domain:  0.36727688\n",
            "Target class:  0.7826087\n",
            "[[{'Source Domain': 0.4281184, 'Source Class': 0.8562368, 'Target Domain': 0.201373, 'Target Class': 0.84324944}, {'Source Domain': 0.41120508, 'Source Class': 0.8435518, 'Target Domain': 0.29290617, 'Target Class': 0.8089245}, {'Source Domain': 0.6215645, 'Source Class': 0.832981, 'Target Domain': 0.18764302, 'Target Class': 0.79290617}, {'Source Domain': 0.4820296, 'Source Class': 0.82241017, 'Target Domain': 0.26773456, 'Target Class': 0.812357}, {'Source Domain': 0.41754758, 'Source Class': 0.8498943, 'Target Domain': 0.23455377, 'Target Class': 0.7894737}, {'Source Domain': 0.3245243, 'Source Class': 0.7928118, 'Target Domain': 0.30549198, 'Target Class': 0.791762}], [{'Source Domain': 0.38160676, 'Source Class': 0.8308668, 'Target Domain': 0.3249428, 'Target Class': 0.7768879}, {'Source Domain': 0.38266385, 'Source Class': 0.8625793, 'Target Domain': 0.28146452, 'Target Class': 0.8306636}, {'Source Domain': 0.52114165, 'Source Class': 0.82346725, 'Target Domain': 0.21510297, 'Target Class': 0.8215103}, {'Source Domain': 0.2230444, 'Source Class': 0.85200846, 'Target Domain': 0.43020594, 'Target Class': 0.8180778}, {'Source Domain': 0.43763214, 'Source Class': 0.8477801, 'Target Domain': 0.29633868, 'Target Class': 0.82608694}, {'Source Domain': 0.48942918, 'Source Class': 0.81289643, 'Target Domain': 0.28375286, 'Target Class': 0.7860412}], [{'Source Domain': 0.40697673, 'Source Class': 0.8446089, 'Target Domain': 0.2631579, 'Target Class': 0.82494277}, {'Source Domain': 0.16384777, 'Source Class': 0.82346725, 'Target Domain': 0.5011442, 'Target Class': 0.75171626}, {'Source Domain': 0.5169133, 'Source Class': 0.8498943, 'Target Domain': 0.24942791, 'Target Class': 0.8089245}, {'Source Domain': 0.4640592, 'Source Class': 0.85412264, 'Target Domain': 0.2757437, 'Target Class': 0.81121284}, {'Source Domain': 0.28118393, 'Source Class': 0.85306555, 'Target Domain': 0.36498857, 'Target Class': 0.8215103}, {'Source Domain': 0.28118393, 'Source Class': 0.8636364, 'Target Domain': 0.34897026, 'Target Class': 0.8215103}], [{'Source Domain': 0.29386893, 'Source Class': 0.7642706, 'Target Domain': 0.32379863, 'Target Class': 0.72540045}, {'Source Domain': 0.38900635, 'Source Class': 0.84143764, 'Target Domain': 0.2631579, 'Target Class': 0.8180778}, {'Source Domain': 0.45983088, 'Source Class': 0.86997885, 'Target Domain': 0.24942791, 'Target Class': 0.83867276}, {'Source Domain': 0.44820297, 'Source Class': 0.8255814, 'Target Domain': 0.2505721, 'Target Class': 0.79290617}, {'Source Domain': 0.6215645, 'Source Class': 0.8086681, 'Target Domain': 0.14759725, 'Target Class': 0.7276888}, {'Source Domain': 0.30338266, 'Source Class': 0.85200846, 'Target Domain': 0.34897026, 'Target Class': 0.81693363}], [{'Source Domain': 0.3192389, 'Source Class': 0.84038055, 'Target Domain': 0.36727688, 'Target Class': 0.7826087}, {}, {}, {}, {}, {}], [{}, {}, {}, {}, {}, {}]]\n"
          ]
        },
        {
          "output_type": "stream",
          "name": "stderr",
          "text": [
            "Some weights of the model checkpoint at distilbert-base-uncased were not used when initializing DistilBertModel: ['vocab_projector.bias', 'vocab_projector.weight', 'vocab_transform.bias', 'vocab_layer_norm.bias', 'vocab_layer_norm.weight', 'vocab_transform.weight']\n",
            "- This IS expected if you are initializing DistilBertModel from the checkpoint of a model trained on another task or with another architecture (e.g. initializing a BertForSequenceClassification model from a BertForPreTraining model).\n",
            "- This IS NOT expected if you are initializing DistilBertModel from the checkpoint of a model that you expect to be exactly identical (initializing a BertForSequenceClassification model from a BertForSequenceClassification model).\n"
          ]
        },
        {
          "output_type": "stream",
          "name": "stdout",
          "text": [
            "Sports_and_Outdoors_5 vs Books_5\n",
            "Source domain:  0.5433404\n",
            "Source class:  0.85729384\n",
            "Target domain:  0.18077803\n",
            "Target class:  0.8398169\n",
            "[[{'Source Domain': 0.4281184, 'Source Class': 0.8562368, 'Target Domain': 0.201373, 'Target Class': 0.84324944}, {'Source Domain': 0.41120508, 'Source Class': 0.8435518, 'Target Domain': 0.29290617, 'Target Class': 0.8089245}, {'Source Domain': 0.6215645, 'Source Class': 0.832981, 'Target Domain': 0.18764302, 'Target Class': 0.79290617}, {'Source Domain': 0.4820296, 'Source Class': 0.82241017, 'Target Domain': 0.26773456, 'Target Class': 0.812357}, {'Source Domain': 0.41754758, 'Source Class': 0.8498943, 'Target Domain': 0.23455377, 'Target Class': 0.7894737}, {'Source Domain': 0.3245243, 'Source Class': 0.7928118, 'Target Domain': 0.30549198, 'Target Class': 0.791762}], [{'Source Domain': 0.38160676, 'Source Class': 0.8308668, 'Target Domain': 0.3249428, 'Target Class': 0.7768879}, {'Source Domain': 0.38266385, 'Source Class': 0.8625793, 'Target Domain': 0.28146452, 'Target Class': 0.8306636}, {'Source Domain': 0.52114165, 'Source Class': 0.82346725, 'Target Domain': 0.21510297, 'Target Class': 0.8215103}, {'Source Domain': 0.2230444, 'Source Class': 0.85200846, 'Target Domain': 0.43020594, 'Target Class': 0.8180778}, {'Source Domain': 0.43763214, 'Source Class': 0.8477801, 'Target Domain': 0.29633868, 'Target Class': 0.82608694}, {'Source Domain': 0.48942918, 'Source Class': 0.81289643, 'Target Domain': 0.28375286, 'Target Class': 0.7860412}], [{'Source Domain': 0.40697673, 'Source Class': 0.8446089, 'Target Domain': 0.2631579, 'Target Class': 0.82494277}, {'Source Domain': 0.16384777, 'Source Class': 0.82346725, 'Target Domain': 0.5011442, 'Target Class': 0.75171626}, {'Source Domain': 0.5169133, 'Source Class': 0.8498943, 'Target Domain': 0.24942791, 'Target Class': 0.8089245}, {'Source Domain': 0.4640592, 'Source Class': 0.85412264, 'Target Domain': 0.2757437, 'Target Class': 0.81121284}, {'Source Domain': 0.28118393, 'Source Class': 0.85306555, 'Target Domain': 0.36498857, 'Target Class': 0.8215103}, {'Source Domain': 0.28118393, 'Source Class': 0.8636364, 'Target Domain': 0.34897026, 'Target Class': 0.8215103}], [{'Source Domain': 0.29386893, 'Source Class': 0.7642706, 'Target Domain': 0.32379863, 'Target Class': 0.72540045}, {'Source Domain': 0.38900635, 'Source Class': 0.84143764, 'Target Domain': 0.2631579, 'Target Class': 0.8180778}, {'Source Domain': 0.45983088, 'Source Class': 0.86997885, 'Target Domain': 0.24942791, 'Target Class': 0.83867276}, {'Source Domain': 0.44820297, 'Source Class': 0.8255814, 'Target Domain': 0.2505721, 'Target Class': 0.79290617}, {'Source Domain': 0.6215645, 'Source Class': 0.8086681, 'Target Domain': 0.14759725, 'Target Class': 0.7276888}, {'Source Domain': 0.30338266, 'Source Class': 0.85200846, 'Target Domain': 0.34897026, 'Target Class': 0.81693363}], [{'Source Domain': 0.3192389, 'Source Class': 0.84038055, 'Target Domain': 0.36727688, 'Target Class': 0.7826087}, {'Source Domain': 0.5433404, 'Source Class': 0.85729384, 'Target Domain': 0.18077803, 'Target Class': 0.8398169}, {}, {}, {}, {}], [{}, {}, {}, {}, {}, {}]]\n"
          ]
        },
        {
          "output_type": "stream",
          "name": "stderr",
          "text": [
            "Some weights of the model checkpoint at distilbert-base-uncased were not used when initializing DistilBertModel: ['vocab_projector.bias', 'vocab_projector.weight', 'vocab_transform.bias', 'vocab_layer_norm.bias', 'vocab_layer_norm.weight', 'vocab_transform.weight']\n",
            "- This IS expected if you are initializing DistilBertModel from the checkpoint of a model trained on another task or with another architecture (e.g. initializing a BertForSequenceClassification model from a BertForPreTraining model).\n",
            "- This IS NOT expected if you are initializing DistilBertModel from the checkpoint of a model that you expect to be exactly identical (initializing a BertForSequenceClassification model from a BertForSequenceClassification model).\n"
          ]
        },
        {
          "output_type": "stream",
          "name": "stdout",
          "text": [
            "Sports_and_Outdoors_5 vs Pet_Supplies_5\n",
            "Source domain:  0.42071882\n",
            "Source class:  0.8308668\n",
            "Target domain:  0.29748285\n",
            "Target class:  0.81693363\n",
            "[[{'Source Domain': 0.4281184, 'Source Class': 0.8562368, 'Target Domain': 0.201373, 'Target Class': 0.84324944}, {'Source Domain': 0.41120508, 'Source Class': 0.8435518, 'Target Domain': 0.29290617, 'Target Class': 0.8089245}, {'Source Domain': 0.6215645, 'Source Class': 0.832981, 'Target Domain': 0.18764302, 'Target Class': 0.79290617}, {'Source Domain': 0.4820296, 'Source Class': 0.82241017, 'Target Domain': 0.26773456, 'Target Class': 0.812357}, {'Source Domain': 0.41754758, 'Source Class': 0.8498943, 'Target Domain': 0.23455377, 'Target Class': 0.7894737}, {'Source Domain': 0.3245243, 'Source Class': 0.7928118, 'Target Domain': 0.30549198, 'Target Class': 0.791762}], [{'Source Domain': 0.38160676, 'Source Class': 0.8308668, 'Target Domain': 0.3249428, 'Target Class': 0.7768879}, {'Source Domain': 0.38266385, 'Source Class': 0.8625793, 'Target Domain': 0.28146452, 'Target Class': 0.8306636}, {'Source Domain': 0.52114165, 'Source Class': 0.82346725, 'Target Domain': 0.21510297, 'Target Class': 0.8215103}, {'Source Domain': 0.2230444, 'Source Class': 0.85200846, 'Target Domain': 0.43020594, 'Target Class': 0.8180778}, {'Source Domain': 0.43763214, 'Source Class': 0.8477801, 'Target Domain': 0.29633868, 'Target Class': 0.82608694}, {'Source Domain': 0.48942918, 'Source Class': 0.81289643, 'Target Domain': 0.28375286, 'Target Class': 0.7860412}], [{'Source Domain': 0.40697673, 'Source Class': 0.8446089, 'Target Domain': 0.2631579, 'Target Class': 0.82494277}, {'Source Domain': 0.16384777, 'Source Class': 0.82346725, 'Target Domain': 0.5011442, 'Target Class': 0.75171626}, {'Source Domain': 0.5169133, 'Source Class': 0.8498943, 'Target Domain': 0.24942791, 'Target Class': 0.8089245}, {'Source Domain': 0.4640592, 'Source Class': 0.85412264, 'Target Domain': 0.2757437, 'Target Class': 0.81121284}, {'Source Domain': 0.28118393, 'Source Class': 0.85306555, 'Target Domain': 0.36498857, 'Target Class': 0.8215103}, {'Source Domain': 0.28118393, 'Source Class': 0.8636364, 'Target Domain': 0.34897026, 'Target Class': 0.8215103}], [{'Source Domain': 0.29386893, 'Source Class': 0.7642706, 'Target Domain': 0.32379863, 'Target Class': 0.72540045}, {'Source Domain': 0.38900635, 'Source Class': 0.84143764, 'Target Domain': 0.2631579, 'Target Class': 0.8180778}, {'Source Domain': 0.45983088, 'Source Class': 0.86997885, 'Target Domain': 0.24942791, 'Target Class': 0.83867276}, {'Source Domain': 0.44820297, 'Source Class': 0.8255814, 'Target Domain': 0.2505721, 'Target Class': 0.79290617}, {'Source Domain': 0.6215645, 'Source Class': 0.8086681, 'Target Domain': 0.14759725, 'Target Class': 0.7276888}, {'Source Domain': 0.30338266, 'Source Class': 0.85200846, 'Target Domain': 0.34897026, 'Target Class': 0.81693363}], [{'Source Domain': 0.3192389, 'Source Class': 0.84038055, 'Target Domain': 0.36727688, 'Target Class': 0.7826087}, {'Source Domain': 0.5433404, 'Source Class': 0.85729384, 'Target Domain': 0.18077803, 'Target Class': 0.8398169}, {'Source Domain': 0.42071882, 'Source Class': 0.8308668, 'Target Domain': 0.29748285, 'Target Class': 0.81693363}, {}, {}, {}], [{}, {}, {}, {}, {}, {}]]\n"
          ]
        },
        {
          "output_type": "stream",
          "name": "stderr",
          "text": [
            "Some weights of the model checkpoint at distilbert-base-uncased were not used when initializing DistilBertModel: ['vocab_projector.bias', 'vocab_projector.weight', 'vocab_transform.bias', 'vocab_layer_norm.bias', 'vocab_layer_norm.weight', 'vocab_transform.weight']\n",
            "- This IS expected if you are initializing DistilBertModel from the checkpoint of a model trained on another task or with another architecture (e.g. initializing a BertForSequenceClassification model from a BertForPreTraining model).\n",
            "- This IS NOT expected if you are initializing DistilBertModel from the checkpoint of a model that you expect to be exactly identical (initializing a BertForSequenceClassification model from a BertForSequenceClassification model).\n"
          ]
        },
        {
          "output_type": "stream",
          "name": "stdout",
          "text": [
            "Sports_and_Outdoors_5 vs Home_and_Kitchen_5\n",
            "Source domain:  0.44186047\n",
            "Source class:  0.8044397\n",
            "Target domain:  0.25514874\n",
            "Target class:  0.73798627\n",
            "[[{'Source Domain': 0.4281184, 'Source Class': 0.8562368, 'Target Domain': 0.201373, 'Target Class': 0.84324944}, {'Source Domain': 0.41120508, 'Source Class': 0.8435518, 'Target Domain': 0.29290617, 'Target Class': 0.8089245}, {'Source Domain': 0.6215645, 'Source Class': 0.832981, 'Target Domain': 0.18764302, 'Target Class': 0.79290617}, {'Source Domain': 0.4820296, 'Source Class': 0.82241017, 'Target Domain': 0.26773456, 'Target Class': 0.812357}, {'Source Domain': 0.41754758, 'Source Class': 0.8498943, 'Target Domain': 0.23455377, 'Target Class': 0.7894737}, {'Source Domain': 0.3245243, 'Source Class': 0.7928118, 'Target Domain': 0.30549198, 'Target Class': 0.791762}], [{'Source Domain': 0.38160676, 'Source Class': 0.8308668, 'Target Domain': 0.3249428, 'Target Class': 0.7768879}, {'Source Domain': 0.38266385, 'Source Class': 0.8625793, 'Target Domain': 0.28146452, 'Target Class': 0.8306636}, {'Source Domain': 0.52114165, 'Source Class': 0.82346725, 'Target Domain': 0.21510297, 'Target Class': 0.8215103}, {'Source Domain': 0.2230444, 'Source Class': 0.85200846, 'Target Domain': 0.43020594, 'Target Class': 0.8180778}, {'Source Domain': 0.43763214, 'Source Class': 0.8477801, 'Target Domain': 0.29633868, 'Target Class': 0.82608694}, {'Source Domain': 0.48942918, 'Source Class': 0.81289643, 'Target Domain': 0.28375286, 'Target Class': 0.7860412}], [{'Source Domain': 0.40697673, 'Source Class': 0.8446089, 'Target Domain': 0.2631579, 'Target Class': 0.82494277}, {'Source Domain': 0.16384777, 'Source Class': 0.82346725, 'Target Domain': 0.5011442, 'Target Class': 0.75171626}, {'Source Domain': 0.5169133, 'Source Class': 0.8498943, 'Target Domain': 0.24942791, 'Target Class': 0.8089245}, {'Source Domain': 0.4640592, 'Source Class': 0.85412264, 'Target Domain': 0.2757437, 'Target Class': 0.81121284}, {'Source Domain': 0.28118393, 'Source Class': 0.85306555, 'Target Domain': 0.36498857, 'Target Class': 0.8215103}, {'Source Domain': 0.28118393, 'Source Class': 0.8636364, 'Target Domain': 0.34897026, 'Target Class': 0.8215103}], [{'Source Domain': 0.29386893, 'Source Class': 0.7642706, 'Target Domain': 0.32379863, 'Target Class': 0.72540045}, {'Source Domain': 0.38900635, 'Source Class': 0.84143764, 'Target Domain': 0.2631579, 'Target Class': 0.8180778}, {'Source Domain': 0.45983088, 'Source Class': 0.86997885, 'Target Domain': 0.24942791, 'Target Class': 0.83867276}, {'Source Domain': 0.44820297, 'Source Class': 0.8255814, 'Target Domain': 0.2505721, 'Target Class': 0.79290617}, {'Source Domain': 0.6215645, 'Source Class': 0.8086681, 'Target Domain': 0.14759725, 'Target Class': 0.7276888}, {'Source Domain': 0.30338266, 'Source Class': 0.85200846, 'Target Domain': 0.34897026, 'Target Class': 0.81693363}], [{'Source Domain': 0.3192389, 'Source Class': 0.84038055, 'Target Domain': 0.36727688, 'Target Class': 0.7826087}, {'Source Domain': 0.5433404, 'Source Class': 0.85729384, 'Target Domain': 0.18077803, 'Target Class': 0.8398169}, {'Source Domain': 0.42071882, 'Source Class': 0.8308668, 'Target Domain': 0.29748285, 'Target Class': 0.81693363}, {'Source Domain': 0.44186047, 'Source Class': 0.8044397, 'Target Domain': 0.25514874, 'Target Class': 0.73798627}, {}, {}], [{}, {}, {}, {}, {}, {}]]\n"
          ]
        },
        {
          "output_type": "stream",
          "name": "stderr",
          "text": [
            "Some weights of the model checkpoint at distilbert-base-uncased were not used when initializing DistilBertModel: ['vocab_projector.bias', 'vocab_projector.weight', 'vocab_transform.bias', 'vocab_layer_norm.bias', 'vocab_layer_norm.weight', 'vocab_transform.weight']\n",
            "- This IS expected if you are initializing DistilBertModel from the checkpoint of a model trained on another task or with another architecture (e.g. initializing a BertForSequenceClassification model from a BertForPreTraining model).\n",
            "- This IS NOT expected if you are initializing DistilBertModel from the checkpoint of a model that you expect to be exactly identical (initializing a BertForSequenceClassification model from a BertForSequenceClassification model).\n"
          ]
        },
        {
          "output_type": "stream",
          "name": "stdout",
          "text": [
            "Sports_and_Outdoors_5 vs Sports_and_Outdoors_5\n",
            "Source domain:  0.41226214\n",
            "Source class:  0.86786467\n",
            "Target domain:  0.22425629\n",
            "Target class:  0.8512586\n",
            "[[{'Source Domain': 0.4281184, 'Source Class': 0.8562368, 'Target Domain': 0.201373, 'Target Class': 0.84324944}, {'Source Domain': 0.41120508, 'Source Class': 0.8435518, 'Target Domain': 0.29290617, 'Target Class': 0.8089245}, {'Source Domain': 0.6215645, 'Source Class': 0.832981, 'Target Domain': 0.18764302, 'Target Class': 0.79290617}, {'Source Domain': 0.4820296, 'Source Class': 0.82241017, 'Target Domain': 0.26773456, 'Target Class': 0.812357}, {'Source Domain': 0.41754758, 'Source Class': 0.8498943, 'Target Domain': 0.23455377, 'Target Class': 0.7894737}, {'Source Domain': 0.3245243, 'Source Class': 0.7928118, 'Target Domain': 0.30549198, 'Target Class': 0.791762}], [{'Source Domain': 0.38160676, 'Source Class': 0.8308668, 'Target Domain': 0.3249428, 'Target Class': 0.7768879}, {'Source Domain': 0.38266385, 'Source Class': 0.8625793, 'Target Domain': 0.28146452, 'Target Class': 0.8306636}, {'Source Domain': 0.52114165, 'Source Class': 0.82346725, 'Target Domain': 0.21510297, 'Target Class': 0.8215103}, {'Source Domain': 0.2230444, 'Source Class': 0.85200846, 'Target Domain': 0.43020594, 'Target Class': 0.8180778}, {'Source Domain': 0.43763214, 'Source Class': 0.8477801, 'Target Domain': 0.29633868, 'Target Class': 0.82608694}, {'Source Domain': 0.48942918, 'Source Class': 0.81289643, 'Target Domain': 0.28375286, 'Target Class': 0.7860412}], [{'Source Domain': 0.40697673, 'Source Class': 0.8446089, 'Target Domain': 0.2631579, 'Target Class': 0.82494277}, {'Source Domain': 0.16384777, 'Source Class': 0.82346725, 'Target Domain': 0.5011442, 'Target Class': 0.75171626}, {'Source Domain': 0.5169133, 'Source Class': 0.8498943, 'Target Domain': 0.24942791, 'Target Class': 0.8089245}, {'Source Domain': 0.4640592, 'Source Class': 0.85412264, 'Target Domain': 0.2757437, 'Target Class': 0.81121284}, {'Source Domain': 0.28118393, 'Source Class': 0.85306555, 'Target Domain': 0.36498857, 'Target Class': 0.8215103}, {'Source Domain': 0.28118393, 'Source Class': 0.8636364, 'Target Domain': 0.34897026, 'Target Class': 0.8215103}], [{'Source Domain': 0.29386893, 'Source Class': 0.7642706, 'Target Domain': 0.32379863, 'Target Class': 0.72540045}, {'Source Domain': 0.38900635, 'Source Class': 0.84143764, 'Target Domain': 0.2631579, 'Target Class': 0.8180778}, {'Source Domain': 0.45983088, 'Source Class': 0.86997885, 'Target Domain': 0.24942791, 'Target Class': 0.83867276}, {'Source Domain': 0.44820297, 'Source Class': 0.8255814, 'Target Domain': 0.2505721, 'Target Class': 0.79290617}, {'Source Domain': 0.6215645, 'Source Class': 0.8086681, 'Target Domain': 0.14759725, 'Target Class': 0.7276888}, {'Source Domain': 0.30338266, 'Source Class': 0.85200846, 'Target Domain': 0.34897026, 'Target Class': 0.81693363}], [{'Source Domain': 0.3192389, 'Source Class': 0.84038055, 'Target Domain': 0.36727688, 'Target Class': 0.7826087}, {'Source Domain': 0.5433404, 'Source Class': 0.85729384, 'Target Domain': 0.18077803, 'Target Class': 0.8398169}, {'Source Domain': 0.42071882, 'Source Class': 0.8308668, 'Target Domain': 0.29748285, 'Target Class': 0.81693363}, {'Source Domain': 0.44186047, 'Source Class': 0.8044397, 'Target Domain': 0.25514874, 'Target Class': 0.73798627}, {'Source Domain': 0.41226214, 'Source Class': 0.86786467, 'Target Domain': 0.22425629, 'Target Class': 0.8512586}, {}], [{}, {}, {}, {}, {}, {}]]\n"
          ]
        },
        {
          "output_type": "stream",
          "name": "stderr",
          "text": [
            "Some weights of the model checkpoint at distilbert-base-uncased were not used when initializing DistilBertModel: ['vocab_projector.bias', 'vocab_projector.weight', 'vocab_transform.bias', 'vocab_layer_norm.bias', 'vocab_layer_norm.weight', 'vocab_transform.weight']\n",
            "- This IS expected if you are initializing DistilBertModel from the checkpoint of a model trained on another task or with another architecture (e.g. initializing a BertForSequenceClassification model from a BertForPreTraining model).\n",
            "- This IS NOT expected if you are initializing DistilBertModel from the checkpoint of a model that you expect to be exactly identical (initializing a BertForSequenceClassification model from a BertForSequenceClassification model).\n"
          ]
        },
        {
          "output_type": "stream",
          "name": "stdout",
          "text": [
            "Sports_and_Outdoors_5 vs Electronics_5\n",
            "Source domain:  0.49788582\n",
            "Source class:  0.77061313\n",
            "Target domain:  0.27688786\n",
            "Target class:  0.75171626\n",
            "[[{'Source Domain': 0.4281184, 'Source Class': 0.8562368, 'Target Domain': 0.201373, 'Target Class': 0.84324944}, {'Source Domain': 0.41120508, 'Source Class': 0.8435518, 'Target Domain': 0.29290617, 'Target Class': 0.8089245}, {'Source Domain': 0.6215645, 'Source Class': 0.832981, 'Target Domain': 0.18764302, 'Target Class': 0.79290617}, {'Source Domain': 0.4820296, 'Source Class': 0.82241017, 'Target Domain': 0.26773456, 'Target Class': 0.812357}, {'Source Domain': 0.41754758, 'Source Class': 0.8498943, 'Target Domain': 0.23455377, 'Target Class': 0.7894737}, {'Source Domain': 0.3245243, 'Source Class': 0.7928118, 'Target Domain': 0.30549198, 'Target Class': 0.791762}], [{'Source Domain': 0.38160676, 'Source Class': 0.8308668, 'Target Domain': 0.3249428, 'Target Class': 0.7768879}, {'Source Domain': 0.38266385, 'Source Class': 0.8625793, 'Target Domain': 0.28146452, 'Target Class': 0.8306636}, {'Source Domain': 0.52114165, 'Source Class': 0.82346725, 'Target Domain': 0.21510297, 'Target Class': 0.8215103}, {'Source Domain': 0.2230444, 'Source Class': 0.85200846, 'Target Domain': 0.43020594, 'Target Class': 0.8180778}, {'Source Domain': 0.43763214, 'Source Class': 0.8477801, 'Target Domain': 0.29633868, 'Target Class': 0.82608694}, {'Source Domain': 0.48942918, 'Source Class': 0.81289643, 'Target Domain': 0.28375286, 'Target Class': 0.7860412}], [{'Source Domain': 0.40697673, 'Source Class': 0.8446089, 'Target Domain': 0.2631579, 'Target Class': 0.82494277}, {'Source Domain': 0.16384777, 'Source Class': 0.82346725, 'Target Domain': 0.5011442, 'Target Class': 0.75171626}, {'Source Domain': 0.5169133, 'Source Class': 0.8498943, 'Target Domain': 0.24942791, 'Target Class': 0.8089245}, {'Source Domain': 0.4640592, 'Source Class': 0.85412264, 'Target Domain': 0.2757437, 'Target Class': 0.81121284}, {'Source Domain': 0.28118393, 'Source Class': 0.85306555, 'Target Domain': 0.36498857, 'Target Class': 0.8215103}, {'Source Domain': 0.28118393, 'Source Class': 0.8636364, 'Target Domain': 0.34897026, 'Target Class': 0.8215103}], [{'Source Domain': 0.29386893, 'Source Class': 0.7642706, 'Target Domain': 0.32379863, 'Target Class': 0.72540045}, {'Source Domain': 0.38900635, 'Source Class': 0.84143764, 'Target Domain': 0.2631579, 'Target Class': 0.8180778}, {'Source Domain': 0.45983088, 'Source Class': 0.86997885, 'Target Domain': 0.24942791, 'Target Class': 0.83867276}, {'Source Domain': 0.44820297, 'Source Class': 0.8255814, 'Target Domain': 0.2505721, 'Target Class': 0.79290617}, {'Source Domain': 0.6215645, 'Source Class': 0.8086681, 'Target Domain': 0.14759725, 'Target Class': 0.7276888}, {'Source Domain': 0.30338266, 'Source Class': 0.85200846, 'Target Domain': 0.34897026, 'Target Class': 0.81693363}], [{'Source Domain': 0.3192389, 'Source Class': 0.84038055, 'Target Domain': 0.36727688, 'Target Class': 0.7826087}, {'Source Domain': 0.5433404, 'Source Class': 0.85729384, 'Target Domain': 0.18077803, 'Target Class': 0.8398169}, {'Source Domain': 0.42071882, 'Source Class': 0.8308668, 'Target Domain': 0.29748285, 'Target Class': 0.81693363}, {'Source Domain': 0.44186047, 'Source Class': 0.8044397, 'Target Domain': 0.25514874, 'Target Class': 0.73798627}, {'Source Domain': 0.41226214, 'Source Class': 0.86786467, 'Target Domain': 0.22425629, 'Target Class': 0.8512586}, {'Source Domain': 0.49788582, 'Source Class': 0.77061313, 'Target Domain': 0.27688786, 'Target Class': 0.75171626}], [{}, {}, {}, {}, {}, {}]]\n"
          ]
        },
        {
          "output_type": "stream",
          "name": "stderr",
          "text": [
            "Some weights of the model checkpoint at distilbert-base-uncased were not used when initializing DistilBertModel: ['vocab_projector.bias', 'vocab_projector.weight', 'vocab_transform.bias', 'vocab_layer_norm.bias', 'vocab_layer_norm.weight', 'vocab_transform.weight']\n",
            "- This IS expected if you are initializing DistilBertModel from the checkpoint of a model trained on another task or with another architecture (e.g. initializing a BertForSequenceClassification model from a BertForPreTraining model).\n",
            "- This IS NOT expected if you are initializing DistilBertModel from the checkpoint of a model that you expect to be exactly identical (initializing a BertForSequenceClassification model from a BertForSequenceClassification model).\n"
          ]
        },
        {
          "output_type": "stream",
          "name": "stdout",
          "text": [
            "Electronics_5 vs Kindle_Store_5\n",
            "Source domain:  0.45560253\n",
            "Source class:  0.8255814\n",
            "Target domain:  0.28032038\n",
            "Target class:  0.7768879\n",
            "[[{'Source Domain': 0.4281184, 'Source Class': 0.8562368, 'Target Domain': 0.201373, 'Target Class': 0.84324944}, {'Source Domain': 0.41120508, 'Source Class': 0.8435518, 'Target Domain': 0.29290617, 'Target Class': 0.8089245}, {'Source Domain': 0.6215645, 'Source Class': 0.832981, 'Target Domain': 0.18764302, 'Target Class': 0.79290617}, {'Source Domain': 0.4820296, 'Source Class': 0.82241017, 'Target Domain': 0.26773456, 'Target Class': 0.812357}, {'Source Domain': 0.41754758, 'Source Class': 0.8498943, 'Target Domain': 0.23455377, 'Target Class': 0.7894737}, {'Source Domain': 0.3245243, 'Source Class': 0.7928118, 'Target Domain': 0.30549198, 'Target Class': 0.791762}], [{'Source Domain': 0.38160676, 'Source Class': 0.8308668, 'Target Domain': 0.3249428, 'Target Class': 0.7768879}, {'Source Domain': 0.38266385, 'Source Class': 0.8625793, 'Target Domain': 0.28146452, 'Target Class': 0.8306636}, {'Source Domain': 0.52114165, 'Source Class': 0.82346725, 'Target Domain': 0.21510297, 'Target Class': 0.8215103}, {'Source Domain': 0.2230444, 'Source Class': 0.85200846, 'Target Domain': 0.43020594, 'Target Class': 0.8180778}, {'Source Domain': 0.43763214, 'Source Class': 0.8477801, 'Target Domain': 0.29633868, 'Target Class': 0.82608694}, {'Source Domain': 0.48942918, 'Source Class': 0.81289643, 'Target Domain': 0.28375286, 'Target Class': 0.7860412}], [{'Source Domain': 0.40697673, 'Source Class': 0.8446089, 'Target Domain': 0.2631579, 'Target Class': 0.82494277}, {'Source Domain': 0.16384777, 'Source Class': 0.82346725, 'Target Domain': 0.5011442, 'Target Class': 0.75171626}, {'Source Domain': 0.5169133, 'Source Class': 0.8498943, 'Target Domain': 0.24942791, 'Target Class': 0.8089245}, {'Source Domain': 0.4640592, 'Source Class': 0.85412264, 'Target Domain': 0.2757437, 'Target Class': 0.81121284}, {'Source Domain': 0.28118393, 'Source Class': 0.85306555, 'Target Domain': 0.36498857, 'Target Class': 0.8215103}, {'Source Domain': 0.28118393, 'Source Class': 0.8636364, 'Target Domain': 0.34897026, 'Target Class': 0.8215103}], [{'Source Domain': 0.29386893, 'Source Class': 0.7642706, 'Target Domain': 0.32379863, 'Target Class': 0.72540045}, {'Source Domain': 0.38900635, 'Source Class': 0.84143764, 'Target Domain': 0.2631579, 'Target Class': 0.8180778}, {'Source Domain': 0.45983088, 'Source Class': 0.86997885, 'Target Domain': 0.24942791, 'Target Class': 0.83867276}, {'Source Domain': 0.44820297, 'Source Class': 0.8255814, 'Target Domain': 0.2505721, 'Target Class': 0.79290617}, {'Source Domain': 0.6215645, 'Source Class': 0.8086681, 'Target Domain': 0.14759725, 'Target Class': 0.7276888}, {'Source Domain': 0.30338266, 'Source Class': 0.85200846, 'Target Domain': 0.34897026, 'Target Class': 0.81693363}], [{'Source Domain': 0.3192389, 'Source Class': 0.84038055, 'Target Domain': 0.36727688, 'Target Class': 0.7826087}, {'Source Domain': 0.5433404, 'Source Class': 0.85729384, 'Target Domain': 0.18077803, 'Target Class': 0.8398169}, {'Source Domain': 0.42071882, 'Source Class': 0.8308668, 'Target Domain': 0.29748285, 'Target Class': 0.81693363}, {'Source Domain': 0.44186047, 'Source Class': 0.8044397, 'Target Domain': 0.25514874, 'Target Class': 0.73798627}, {'Source Domain': 0.41226214, 'Source Class': 0.86786467, 'Target Domain': 0.22425629, 'Target Class': 0.8512586}, {'Source Domain': 0.49788582, 'Source Class': 0.77061313, 'Target Domain': 0.27688786, 'Target Class': 0.75171626}], [{'Source Domain': 0.45560253, 'Source Class': 0.8255814, 'Target Domain': 0.28032038, 'Target Class': 0.7768879}, {}, {}, {}, {}, {}]]\n"
          ]
        },
        {
          "output_type": "stream",
          "name": "stderr",
          "text": [
            "Some weights of the model checkpoint at distilbert-base-uncased were not used when initializing DistilBertModel: ['vocab_projector.bias', 'vocab_projector.weight', 'vocab_transform.bias', 'vocab_layer_norm.bias', 'vocab_layer_norm.weight', 'vocab_transform.weight']\n",
            "- This IS expected if you are initializing DistilBertModel from the checkpoint of a model trained on another task or with another architecture (e.g. initializing a BertForSequenceClassification model from a BertForPreTraining model).\n",
            "- This IS NOT expected if you are initializing DistilBertModel from the checkpoint of a model that you expect to be exactly identical (initializing a BertForSequenceClassification model from a BertForSequenceClassification model).\n"
          ]
        },
        {
          "output_type": "stream",
          "name": "stdout",
          "text": [
            "Electronics_5 vs Books_5\n",
            "Source domain:  0.3731501\n",
            "Source class:  0.8604651\n",
            "Target domain:  0.28489703\n",
            "Target class:  0.8375286\n",
            "[[{'Source Domain': 0.4281184, 'Source Class': 0.8562368, 'Target Domain': 0.201373, 'Target Class': 0.84324944}, {'Source Domain': 0.41120508, 'Source Class': 0.8435518, 'Target Domain': 0.29290617, 'Target Class': 0.8089245}, {'Source Domain': 0.6215645, 'Source Class': 0.832981, 'Target Domain': 0.18764302, 'Target Class': 0.79290617}, {'Source Domain': 0.4820296, 'Source Class': 0.82241017, 'Target Domain': 0.26773456, 'Target Class': 0.812357}, {'Source Domain': 0.41754758, 'Source Class': 0.8498943, 'Target Domain': 0.23455377, 'Target Class': 0.7894737}, {'Source Domain': 0.3245243, 'Source Class': 0.7928118, 'Target Domain': 0.30549198, 'Target Class': 0.791762}], [{'Source Domain': 0.38160676, 'Source Class': 0.8308668, 'Target Domain': 0.3249428, 'Target Class': 0.7768879}, {'Source Domain': 0.38266385, 'Source Class': 0.8625793, 'Target Domain': 0.28146452, 'Target Class': 0.8306636}, {'Source Domain': 0.52114165, 'Source Class': 0.82346725, 'Target Domain': 0.21510297, 'Target Class': 0.8215103}, {'Source Domain': 0.2230444, 'Source Class': 0.85200846, 'Target Domain': 0.43020594, 'Target Class': 0.8180778}, {'Source Domain': 0.43763214, 'Source Class': 0.8477801, 'Target Domain': 0.29633868, 'Target Class': 0.82608694}, {'Source Domain': 0.48942918, 'Source Class': 0.81289643, 'Target Domain': 0.28375286, 'Target Class': 0.7860412}], [{'Source Domain': 0.40697673, 'Source Class': 0.8446089, 'Target Domain': 0.2631579, 'Target Class': 0.82494277}, {'Source Domain': 0.16384777, 'Source Class': 0.82346725, 'Target Domain': 0.5011442, 'Target Class': 0.75171626}, {'Source Domain': 0.5169133, 'Source Class': 0.8498943, 'Target Domain': 0.24942791, 'Target Class': 0.8089245}, {'Source Domain': 0.4640592, 'Source Class': 0.85412264, 'Target Domain': 0.2757437, 'Target Class': 0.81121284}, {'Source Domain': 0.28118393, 'Source Class': 0.85306555, 'Target Domain': 0.36498857, 'Target Class': 0.8215103}, {'Source Domain': 0.28118393, 'Source Class': 0.8636364, 'Target Domain': 0.34897026, 'Target Class': 0.8215103}], [{'Source Domain': 0.29386893, 'Source Class': 0.7642706, 'Target Domain': 0.32379863, 'Target Class': 0.72540045}, {'Source Domain': 0.38900635, 'Source Class': 0.84143764, 'Target Domain': 0.2631579, 'Target Class': 0.8180778}, {'Source Domain': 0.45983088, 'Source Class': 0.86997885, 'Target Domain': 0.24942791, 'Target Class': 0.83867276}, {'Source Domain': 0.44820297, 'Source Class': 0.8255814, 'Target Domain': 0.2505721, 'Target Class': 0.79290617}, {'Source Domain': 0.6215645, 'Source Class': 0.8086681, 'Target Domain': 0.14759725, 'Target Class': 0.7276888}, {'Source Domain': 0.30338266, 'Source Class': 0.85200846, 'Target Domain': 0.34897026, 'Target Class': 0.81693363}], [{'Source Domain': 0.3192389, 'Source Class': 0.84038055, 'Target Domain': 0.36727688, 'Target Class': 0.7826087}, {'Source Domain': 0.5433404, 'Source Class': 0.85729384, 'Target Domain': 0.18077803, 'Target Class': 0.8398169}, {'Source Domain': 0.42071882, 'Source Class': 0.8308668, 'Target Domain': 0.29748285, 'Target Class': 0.81693363}, {'Source Domain': 0.44186047, 'Source Class': 0.8044397, 'Target Domain': 0.25514874, 'Target Class': 0.73798627}, {'Source Domain': 0.41226214, 'Source Class': 0.86786467, 'Target Domain': 0.22425629, 'Target Class': 0.8512586}, {'Source Domain': 0.49788582, 'Source Class': 0.77061313, 'Target Domain': 0.27688786, 'Target Class': 0.75171626}], [{'Source Domain': 0.45560253, 'Source Class': 0.8255814, 'Target Domain': 0.28032038, 'Target Class': 0.7768879}, {'Source Domain': 0.3731501, 'Source Class': 0.8604651, 'Target Domain': 0.28489703, 'Target Class': 0.8375286}, {}, {}, {}, {}]]\n"
          ]
        },
        {
          "output_type": "stream",
          "name": "stderr",
          "text": [
            "Some weights of the model checkpoint at distilbert-base-uncased were not used when initializing DistilBertModel: ['vocab_projector.bias', 'vocab_projector.weight', 'vocab_transform.bias', 'vocab_layer_norm.bias', 'vocab_layer_norm.weight', 'vocab_transform.weight']\n",
            "- This IS expected if you are initializing DistilBertModel from the checkpoint of a model trained on another task or with another architecture (e.g. initializing a BertForSequenceClassification model from a BertForPreTraining model).\n",
            "- This IS NOT expected if you are initializing DistilBertModel from the checkpoint of a model that you expect to be exactly identical (initializing a BertForSequenceClassification model from a BertForSequenceClassification model).\n"
          ]
        },
        {
          "output_type": "stream",
          "name": "stdout",
          "text": [
            "Electronics_5 vs Pet_Supplies_5\n",
            "Source domain:  0.4947146\n",
            "Source class:  0.85835093\n",
            "Target domain:  0.21281464\n",
            "Target class:  0.83409613\n",
            "[[{'Source Domain': 0.4281184, 'Source Class': 0.8562368, 'Target Domain': 0.201373, 'Target Class': 0.84324944}, {'Source Domain': 0.41120508, 'Source Class': 0.8435518, 'Target Domain': 0.29290617, 'Target Class': 0.8089245}, {'Source Domain': 0.6215645, 'Source Class': 0.832981, 'Target Domain': 0.18764302, 'Target Class': 0.79290617}, {'Source Domain': 0.4820296, 'Source Class': 0.82241017, 'Target Domain': 0.26773456, 'Target Class': 0.812357}, {'Source Domain': 0.41754758, 'Source Class': 0.8498943, 'Target Domain': 0.23455377, 'Target Class': 0.7894737}, {'Source Domain': 0.3245243, 'Source Class': 0.7928118, 'Target Domain': 0.30549198, 'Target Class': 0.791762}], [{'Source Domain': 0.38160676, 'Source Class': 0.8308668, 'Target Domain': 0.3249428, 'Target Class': 0.7768879}, {'Source Domain': 0.38266385, 'Source Class': 0.8625793, 'Target Domain': 0.28146452, 'Target Class': 0.8306636}, {'Source Domain': 0.52114165, 'Source Class': 0.82346725, 'Target Domain': 0.21510297, 'Target Class': 0.8215103}, {'Source Domain': 0.2230444, 'Source Class': 0.85200846, 'Target Domain': 0.43020594, 'Target Class': 0.8180778}, {'Source Domain': 0.43763214, 'Source Class': 0.8477801, 'Target Domain': 0.29633868, 'Target Class': 0.82608694}, {'Source Domain': 0.48942918, 'Source Class': 0.81289643, 'Target Domain': 0.28375286, 'Target Class': 0.7860412}], [{'Source Domain': 0.40697673, 'Source Class': 0.8446089, 'Target Domain': 0.2631579, 'Target Class': 0.82494277}, {'Source Domain': 0.16384777, 'Source Class': 0.82346725, 'Target Domain': 0.5011442, 'Target Class': 0.75171626}, {'Source Domain': 0.5169133, 'Source Class': 0.8498943, 'Target Domain': 0.24942791, 'Target Class': 0.8089245}, {'Source Domain': 0.4640592, 'Source Class': 0.85412264, 'Target Domain': 0.2757437, 'Target Class': 0.81121284}, {'Source Domain': 0.28118393, 'Source Class': 0.85306555, 'Target Domain': 0.36498857, 'Target Class': 0.8215103}, {'Source Domain': 0.28118393, 'Source Class': 0.8636364, 'Target Domain': 0.34897026, 'Target Class': 0.8215103}], [{'Source Domain': 0.29386893, 'Source Class': 0.7642706, 'Target Domain': 0.32379863, 'Target Class': 0.72540045}, {'Source Domain': 0.38900635, 'Source Class': 0.84143764, 'Target Domain': 0.2631579, 'Target Class': 0.8180778}, {'Source Domain': 0.45983088, 'Source Class': 0.86997885, 'Target Domain': 0.24942791, 'Target Class': 0.83867276}, {'Source Domain': 0.44820297, 'Source Class': 0.8255814, 'Target Domain': 0.2505721, 'Target Class': 0.79290617}, {'Source Domain': 0.6215645, 'Source Class': 0.8086681, 'Target Domain': 0.14759725, 'Target Class': 0.7276888}, {'Source Domain': 0.30338266, 'Source Class': 0.85200846, 'Target Domain': 0.34897026, 'Target Class': 0.81693363}], [{'Source Domain': 0.3192389, 'Source Class': 0.84038055, 'Target Domain': 0.36727688, 'Target Class': 0.7826087}, {'Source Domain': 0.5433404, 'Source Class': 0.85729384, 'Target Domain': 0.18077803, 'Target Class': 0.8398169}, {'Source Domain': 0.42071882, 'Source Class': 0.8308668, 'Target Domain': 0.29748285, 'Target Class': 0.81693363}, {'Source Domain': 0.44186047, 'Source Class': 0.8044397, 'Target Domain': 0.25514874, 'Target Class': 0.73798627}, {'Source Domain': 0.41226214, 'Source Class': 0.86786467, 'Target Domain': 0.22425629, 'Target Class': 0.8512586}, {'Source Domain': 0.49788582, 'Source Class': 0.77061313, 'Target Domain': 0.27688786, 'Target Class': 0.75171626}], [{'Source Domain': 0.45560253, 'Source Class': 0.8255814, 'Target Domain': 0.28032038, 'Target Class': 0.7768879}, {'Source Domain': 0.3731501, 'Source Class': 0.8604651, 'Target Domain': 0.28489703, 'Target Class': 0.8375286}, {'Source Domain': 0.4947146, 'Source Class': 0.85835093, 'Target Domain': 0.21281464, 'Target Class': 0.83409613}, {}, {}, {}]]\n"
          ]
        },
        {
          "output_type": "stream",
          "name": "stderr",
          "text": [
            "Some weights of the model checkpoint at distilbert-base-uncased were not used when initializing DistilBertModel: ['vocab_projector.bias', 'vocab_projector.weight', 'vocab_transform.bias', 'vocab_layer_norm.bias', 'vocab_layer_norm.weight', 'vocab_transform.weight']\n",
            "- This IS expected if you are initializing DistilBertModel from the checkpoint of a model trained on another task or with another architecture (e.g. initializing a BertForSequenceClassification model from a BertForPreTraining model).\n",
            "- This IS NOT expected if you are initializing DistilBertModel from the checkpoint of a model that you expect to be exactly identical (initializing a BertForSequenceClassification model from a BertForSequenceClassification model).\n"
          ]
        },
        {
          "output_type": "stream",
          "name": "stdout",
          "text": [
            "Electronics_5 vs Home_and_Kitchen_5\n",
            "Source domain:  0.41120508\n",
            "Source class:  0.84143764\n",
            "Target domain:  0.26887873\n",
            "Target class:  0.82494277\n",
            "[[{'Source Domain': 0.4281184, 'Source Class': 0.8562368, 'Target Domain': 0.201373, 'Target Class': 0.84324944}, {'Source Domain': 0.41120508, 'Source Class': 0.8435518, 'Target Domain': 0.29290617, 'Target Class': 0.8089245}, {'Source Domain': 0.6215645, 'Source Class': 0.832981, 'Target Domain': 0.18764302, 'Target Class': 0.79290617}, {'Source Domain': 0.4820296, 'Source Class': 0.82241017, 'Target Domain': 0.26773456, 'Target Class': 0.812357}, {'Source Domain': 0.41754758, 'Source Class': 0.8498943, 'Target Domain': 0.23455377, 'Target Class': 0.7894737}, {'Source Domain': 0.3245243, 'Source Class': 0.7928118, 'Target Domain': 0.30549198, 'Target Class': 0.791762}], [{'Source Domain': 0.38160676, 'Source Class': 0.8308668, 'Target Domain': 0.3249428, 'Target Class': 0.7768879}, {'Source Domain': 0.38266385, 'Source Class': 0.8625793, 'Target Domain': 0.28146452, 'Target Class': 0.8306636}, {'Source Domain': 0.52114165, 'Source Class': 0.82346725, 'Target Domain': 0.21510297, 'Target Class': 0.8215103}, {'Source Domain': 0.2230444, 'Source Class': 0.85200846, 'Target Domain': 0.43020594, 'Target Class': 0.8180778}, {'Source Domain': 0.43763214, 'Source Class': 0.8477801, 'Target Domain': 0.29633868, 'Target Class': 0.82608694}, {'Source Domain': 0.48942918, 'Source Class': 0.81289643, 'Target Domain': 0.28375286, 'Target Class': 0.7860412}], [{'Source Domain': 0.40697673, 'Source Class': 0.8446089, 'Target Domain': 0.2631579, 'Target Class': 0.82494277}, {'Source Domain': 0.16384777, 'Source Class': 0.82346725, 'Target Domain': 0.5011442, 'Target Class': 0.75171626}, {'Source Domain': 0.5169133, 'Source Class': 0.8498943, 'Target Domain': 0.24942791, 'Target Class': 0.8089245}, {'Source Domain': 0.4640592, 'Source Class': 0.85412264, 'Target Domain': 0.2757437, 'Target Class': 0.81121284}, {'Source Domain': 0.28118393, 'Source Class': 0.85306555, 'Target Domain': 0.36498857, 'Target Class': 0.8215103}, {'Source Domain': 0.28118393, 'Source Class': 0.8636364, 'Target Domain': 0.34897026, 'Target Class': 0.8215103}], [{'Source Domain': 0.29386893, 'Source Class': 0.7642706, 'Target Domain': 0.32379863, 'Target Class': 0.72540045}, {'Source Domain': 0.38900635, 'Source Class': 0.84143764, 'Target Domain': 0.2631579, 'Target Class': 0.8180778}, {'Source Domain': 0.45983088, 'Source Class': 0.86997885, 'Target Domain': 0.24942791, 'Target Class': 0.83867276}, {'Source Domain': 0.44820297, 'Source Class': 0.8255814, 'Target Domain': 0.2505721, 'Target Class': 0.79290617}, {'Source Domain': 0.6215645, 'Source Class': 0.8086681, 'Target Domain': 0.14759725, 'Target Class': 0.7276888}, {'Source Domain': 0.30338266, 'Source Class': 0.85200846, 'Target Domain': 0.34897026, 'Target Class': 0.81693363}], [{'Source Domain': 0.3192389, 'Source Class': 0.84038055, 'Target Domain': 0.36727688, 'Target Class': 0.7826087}, {'Source Domain': 0.5433404, 'Source Class': 0.85729384, 'Target Domain': 0.18077803, 'Target Class': 0.8398169}, {'Source Domain': 0.42071882, 'Source Class': 0.8308668, 'Target Domain': 0.29748285, 'Target Class': 0.81693363}, {'Source Domain': 0.44186047, 'Source Class': 0.8044397, 'Target Domain': 0.25514874, 'Target Class': 0.73798627}, {'Source Domain': 0.41226214, 'Source Class': 0.86786467, 'Target Domain': 0.22425629, 'Target Class': 0.8512586}, {'Source Domain': 0.49788582, 'Source Class': 0.77061313, 'Target Domain': 0.27688786, 'Target Class': 0.75171626}], [{'Source Domain': 0.45560253, 'Source Class': 0.8255814, 'Target Domain': 0.28032038, 'Target Class': 0.7768879}, {'Source Domain': 0.3731501, 'Source Class': 0.8604651, 'Target Domain': 0.28489703, 'Target Class': 0.8375286}, {'Source Domain': 0.4947146, 'Source Class': 0.85835093, 'Target Domain': 0.21281464, 'Target Class': 0.83409613}, {'Source Domain': 0.41120508, 'Source Class': 0.84143764, 'Target Domain': 0.26887873, 'Target Class': 0.82494277}, {}, {}]]\n"
          ]
        },
        {
          "output_type": "stream",
          "name": "stderr",
          "text": [
            "Some weights of the model checkpoint at distilbert-base-uncased were not used when initializing DistilBertModel: ['vocab_projector.bias', 'vocab_projector.weight', 'vocab_transform.bias', 'vocab_layer_norm.bias', 'vocab_layer_norm.weight', 'vocab_transform.weight']\n",
            "- This IS expected if you are initializing DistilBertModel from the checkpoint of a model trained on another task or with another architecture (e.g. initializing a BertForSequenceClassification model from a BertForPreTraining model).\n",
            "- This IS NOT expected if you are initializing DistilBertModel from the checkpoint of a model that you expect to be exactly identical (initializing a BertForSequenceClassification model from a BertForSequenceClassification model).\n"
          ]
        },
        {
          "output_type": "stream",
          "name": "stdout",
          "text": [
            "Electronics_5 vs Sports_and_Outdoors_5\n",
            "Source domain:  0.34038055\n",
            "Source class:  0.8298097\n",
            "Target domain:  0.31235698\n",
            "Target class:  0.7871854\n",
            "[[{'Source Domain': 0.4281184, 'Source Class': 0.8562368, 'Target Domain': 0.201373, 'Target Class': 0.84324944}, {'Source Domain': 0.41120508, 'Source Class': 0.8435518, 'Target Domain': 0.29290617, 'Target Class': 0.8089245}, {'Source Domain': 0.6215645, 'Source Class': 0.832981, 'Target Domain': 0.18764302, 'Target Class': 0.79290617}, {'Source Domain': 0.4820296, 'Source Class': 0.82241017, 'Target Domain': 0.26773456, 'Target Class': 0.812357}, {'Source Domain': 0.41754758, 'Source Class': 0.8498943, 'Target Domain': 0.23455377, 'Target Class': 0.7894737}, {'Source Domain': 0.3245243, 'Source Class': 0.7928118, 'Target Domain': 0.30549198, 'Target Class': 0.791762}], [{'Source Domain': 0.38160676, 'Source Class': 0.8308668, 'Target Domain': 0.3249428, 'Target Class': 0.7768879}, {'Source Domain': 0.38266385, 'Source Class': 0.8625793, 'Target Domain': 0.28146452, 'Target Class': 0.8306636}, {'Source Domain': 0.52114165, 'Source Class': 0.82346725, 'Target Domain': 0.21510297, 'Target Class': 0.8215103}, {'Source Domain': 0.2230444, 'Source Class': 0.85200846, 'Target Domain': 0.43020594, 'Target Class': 0.8180778}, {'Source Domain': 0.43763214, 'Source Class': 0.8477801, 'Target Domain': 0.29633868, 'Target Class': 0.82608694}, {'Source Domain': 0.48942918, 'Source Class': 0.81289643, 'Target Domain': 0.28375286, 'Target Class': 0.7860412}], [{'Source Domain': 0.40697673, 'Source Class': 0.8446089, 'Target Domain': 0.2631579, 'Target Class': 0.82494277}, {'Source Domain': 0.16384777, 'Source Class': 0.82346725, 'Target Domain': 0.5011442, 'Target Class': 0.75171626}, {'Source Domain': 0.5169133, 'Source Class': 0.8498943, 'Target Domain': 0.24942791, 'Target Class': 0.8089245}, {'Source Domain': 0.4640592, 'Source Class': 0.85412264, 'Target Domain': 0.2757437, 'Target Class': 0.81121284}, {'Source Domain': 0.28118393, 'Source Class': 0.85306555, 'Target Domain': 0.36498857, 'Target Class': 0.8215103}, {'Source Domain': 0.28118393, 'Source Class': 0.8636364, 'Target Domain': 0.34897026, 'Target Class': 0.8215103}], [{'Source Domain': 0.29386893, 'Source Class': 0.7642706, 'Target Domain': 0.32379863, 'Target Class': 0.72540045}, {'Source Domain': 0.38900635, 'Source Class': 0.84143764, 'Target Domain': 0.2631579, 'Target Class': 0.8180778}, {'Source Domain': 0.45983088, 'Source Class': 0.86997885, 'Target Domain': 0.24942791, 'Target Class': 0.83867276}, {'Source Domain': 0.44820297, 'Source Class': 0.8255814, 'Target Domain': 0.2505721, 'Target Class': 0.79290617}, {'Source Domain': 0.6215645, 'Source Class': 0.8086681, 'Target Domain': 0.14759725, 'Target Class': 0.7276888}, {'Source Domain': 0.30338266, 'Source Class': 0.85200846, 'Target Domain': 0.34897026, 'Target Class': 0.81693363}], [{'Source Domain': 0.3192389, 'Source Class': 0.84038055, 'Target Domain': 0.36727688, 'Target Class': 0.7826087}, {'Source Domain': 0.5433404, 'Source Class': 0.85729384, 'Target Domain': 0.18077803, 'Target Class': 0.8398169}, {'Source Domain': 0.42071882, 'Source Class': 0.8308668, 'Target Domain': 0.29748285, 'Target Class': 0.81693363}, {'Source Domain': 0.44186047, 'Source Class': 0.8044397, 'Target Domain': 0.25514874, 'Target Class': 0.73798627}, {'Source Domain': 0.41226214, 'Source Class': 0.86786467, 'Target Domain': 0.22425629, 'Target Class': 0.8512586}, {'Source Domain': 0.49788582, 'Source Class': 0.77061313, 'Target Domain': 0.27688786, 'Target Class': 0.75171626}], [{'Source Domain': 0.45560253, 'Source Class': 0.8255814, 'Target Domain': 0.28032038, 'Target Class': 0.7768879}, {'Source Domain': 0.3731501, 'Source Class': 0.8604651, 'Target Domain': 0.28489703, 'Target Class': 0.8375286}, {'Source Domain': 0.4947146, 'Source Class': 0.85835093, 'Target Domain': 0.21281464, 'Target Class': 0.83409613}, {'Source Domain': 0.41120508, 'Source Class': 0.84143764, 'Target Domain': 0.26887873, 'Target Class': 0.82494277}, {'Source Domain': 0.34038055, 'Source Class': 0.8298097, 'Target Domain': 0.31235698, 'Target Class': 0.7871854}, {}]]\n"
          ]
        },
        {
          "output_type": "stream",
          "name": "stderr",
          "text": [
            "Some weights of the model checkpoint at distilbert-base-uncased were not used when initializing DistilBertModel: ['vocab_projector.bias', 'vocab_projector.weight', 'vocab_transform.bias', 'vocab_layer_norm.bias', 'vocab_layer_norm.weight', 'vocab_transform.weight']\n",
            "- This IS expected if you are initializing DistilBertModel from the checkpoint of a model trained on another task or with another architecture (e.g. initializing a BertForSequenceClassification model from a BertForPreTraining model).\n",
            "- This IS NOT expected if you are initializing DistilBertModel from the checkpoint of a model that you expect to be exactly identical (initializing a BertForSequenceClassification model from a BertForSequenceClassification model).\n"
          ]
        },
        {
          "output_type": "stream",
          "name": "stdout",
          "text": [
            "Electronics_5 vs Electronics_5\n",
            "Source domain:  0.3742072\n",
            "Source class:  0.82663846\n",
            "Target domain:  0.26201373\n",
            "Target class:  0.812357\n",
            "[[{'Source Domain': 0.4281184, 'Source Class': 0.8562368, 'Target Domain': 0.201373, 'Target Class': 0.84324944}, {'Source Domain': 0.41120508, 'Source Class': 0.8435518, 'Target Domain': 0.29290617, 'Target Class': 0.8089245}, {'Source Domain': 0.6215645, 'Source Class': 0.832981, 'Target Domain': 0.18764302, 'Target Class': 0.79290617}, {'Source Domain': 0.4820296, 'Source Class': 0.82241017, 'Target Domain': 0.26773456, 'Target Class': 0.812357}, {'Source Domain': 0.41754758, 'Source Class': 0.8498943, 'Target Domain': 0.23455377, 'Target Class': 0.7894737}, {'Source Domain': 0.3245243, 'Source Class': 0.7928118, 'Target Domain': 0.30549198, 'Target Class': 0.791762}], [{'Source Domain': 0.38160676, 'Source Class': 0.8308668, 'Target Domain': 0.3249428, 'Target Class': 0.7768879}, {'Source Domain': 0.38266385, 'Source Class': 0.8625793, 'Target Domain': 0.28146452, 'Target Class': 0.8306636}, {'Source Domain': 0.52114165, 'Source Class': 0.82346725, 'Target Domain': 0.21510297, 'Target Class': 0.8215103}, {'Source Domain': 0.2230444, 'Source Class': 0.85200846, 'Target Domain': 0.43020594, 'Target Class': 0.8180778}, {'Source Domain': 0.43763214, 'Source Class': 0.8477801, 'Target Domain': 0.29633868, 'Target Class': 0.82608694}, {'Source Domain': 0.48942918, 'Source Class': 0.81289643, 'Target Domain': 0.28375286, 'Target Class': 0.7860412}], [{'Source Domain': 0.40697673, 'Source Class': 0.8446089, 'Target Domain': 0.2631579, 'Target Class': 0.82494277}, {'Source Domain': 0.16384777, 'Source Class': 0.82346725, 'Target Domain': 0.5011442, 'Target Class': 0.75171626}, {'Source Domain': 0.5169133, 'Source Class': 0.8498943, 'Target Domain': 0.24942791, 'Target Class': 0.8089245}, {'Source Domain': 0.4640592, 'Source Class': 0.85412264, 'Target Domain': 0.2757437, 'Target Class': 0.81121284}, {'Source Domain': 0.28118393, 'Source Class': 0.85306555, 'Target Domain': 0.36498857, 'Target Class': 0.8215103}, {'Source Domain': 0.28118393, 'Source Class': 0.8636364, 'Target Domain': 0.34897026, 'Target Class': 0.8215103}], [{'Source Domain': 0.29386893, 'Source Class': 0.7642706, 'Target Domain': 0.32379863, 'Target Class': 0.72540045}, {'Source Domain': 0.38900635, 'Source Class': 0.84143764, 'Target Domain': 0.2631579, 'Target Class': 0.8180778}, {'Source Domain': 0.45983088, 'Source Class': 0.86997885, 'Target Domain': 0.24942791, 'Target Class': 0.83867276}, {'Source Domain': 0.44820297, 'Source Class': 0.8255814, 'Target Domain': 0.2505721, 'Target Class': 0.79290617}, {'Source Domain': 0.6215645, 'Source Class': 0.8086681, 'Target Domain': 0.14759725, 'Target Class': 0.7276888}, {'Source Domain': 0.30338266, 'Source Class': 0.85200846, 'Target Domain': 0.34897026, 'Target Class': 0.81693363}], [{'Source Domain': 0.3192389, 'Source Class': 0.84038055, 'Target Domain': 0.36727688, 'Target Class': 0.7826087}, {'Source Domain': 0.5433404, 'Source Class': 0.85729384, 'Target Domain': 0.18077803, 'Target Class': 0.8398169}, {'Source Domain': 0.42071882, 'Source Class': 0.8308668, 'Target Domain': 0.29748285, 'Target Class': 0.81693363}, {'Source Domain': 0.44186047, 'Source Class': 0.8044397, 'Target Domain': 0.25514874, 'Target Class': 0.73798627}, {'Source Domain': 0.41226214, 'Source Class': 0.86786467, 'Target Domain': 0.22425629, 'Target Class': 0.8512586}, {'Source Domain': 0.49788582, 'Source Class': 0.77061313, 'Target Domain': 0.27688786, 'Target Class': 0.75171626}], [{'Source Domain': 0.45560253, 'Source Class': 0.8255814, 'Target Domain': 0.28032038, 'Target Class': 0.7768879}, {'Source Domain': 0.3731501, 'Source Class': 0.8604651, 'Target Domain': 0.28489703, 'Target Class': 0.8375286}, {'Source Domain': 0.4947146, 'Source Class': 0.85835093, 'Target Domain': 0.21281464, 'Target Class': 0.83409613}, {'Source Domain': 0.41120508, 'Source Class': 0.84143764, 'Target Domain': 0.26887873, 'Target Class': 0.82494277}, {'Source Domain': 0.34038055, 'Source Class': 0.8298097, 'Target Domain': 0.31235698, 'Target Class': 0.7871854}, {'Source Domain': 0.3742072, 'Source Class': 0.82663846, 'Target Domain': 0.26201373, 'Target Class': 0.812357}]]\n"
          ]
        }
      ]
    }
  ]
}